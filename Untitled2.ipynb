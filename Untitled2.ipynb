{
 "cells": [
  {
   "cell_type": "markdown",
   "id": "323dce08-b6b9-480e-aefc-70f05c5f0882",
   "metadata": {},
   "source": [
    "## **Feature Engineering**"
   ]
  },
  {
   "cell_type": "code",
   "execution_count": null,
   "id": "9bfb2e5e-9700-4194-8ff0-97bc3a2053b2",
   "metadata": {},
   "outputs": [],
   "source": [
    "import numpy as np\n",
    "import pandas as pd\n",
    "import matplotlib.pyplot as plt\n",
    "import seaborn as sns"
   ]
  },
  {
   "cell_type": "markdown",
   "id": "01e03373-52b3-4a33-8ab1-bd322276ec7e",
   "metadata": {
    "tags": []
   },
   "source": [
    "### **About Data**"
   ]
  },
  {
   "cell_type": "markdown",
   "id": "1a9d9cc7-14e0-47fb-b71d-1808dcac58cd",
   "metadata": {},
   "source": [
    "*The data consist of New Yorks iconic yellow taxis recorded and provided by TLC. Records include fields*\n",
    "1. `VendorID` - Data provided by vendors\n",
    "2. `tpep_pickup_datetime` - pickup date and time\n",
    "3. `tpep_dropoff_datetime` - drop off date and time\n",
    "4. `passenger_count` - number of passengers in taxi\n",
    "5. `trip_distance` - in miles\n",
    "6. `RatecodeID` - rates codes\n",
    "7. `PULocationID` - pickup Location\n",
    "8. `DOLocationID` - dropoff Location\n",
    "9. `payment_type` - mode of payment\n",
    "10. `total_amount` - amount payed by passengers"
   ]
  },
  {
   "cell_type": "code",
   "execution_count": null,
   "id": "65da457f-d616-47cb-bdd7-b5d993002b7c",
   "metadata": {},
   "outputs": [],
   "source": [
    "nyc_taxi = pd.read_parquet(\"data/yellow_tripdata_2022-03.parquet\")\n",
    "nyc_taxi.head()"
   ]
  },
  {
   "cell_type": "markdown",
   "id": "b1bc8d78-6e28-4f38-9774-08afc34bd5e0",
   "metadata": {},
   "source": [
    "*Converting miles into meters*"
   ]
  },
  {
   "cell_type": "code",
   "execution_count": null,
   "id": "77b2f4de-372c-4f84-8672-68fb5b838150",
   "metadata": {},
   "outputs": [],
   "source": [
    "nyc_taxi[\"trip_distance\"] = nyc_taxi[\"trip_distance\"] * 1609.34"
   ]
  },
  {
   "cell_type": "markdown",
   "id": "e5354d96-ac85-4ba2-9478-e80148910b86",
   "metadata": {},
   "source": [
    "*Calculating time interval from pickup to dropoff*"
   ]
  },
  {
   "cell_type": "code",
   "execution_count": null,
   "id": "4206afda-0bb0-40f6-8133-30d5d3cb13b8",
   "metadata": {},
   "outputs": [],
   "source": [
    "diff = nyc_taxi[\"tpep_dropoff_datetime\"] - nyc_taxi[\"tpep_pickup_datetime\"]"
   ]
  },
  {
   "cell_type": "markdown",
   "id": "d71f4529-7264-4e63-8c72-d471775a2564",
   "metadata": {},
   "source": [
    "*Extracting time interval in seconds*"
   ]
  },
  {
   "cell_type": "code",
   "execution_count": null,
   "id": "bf306d1c-b194-48f6-814e-5708b69958db",
   "metadata": {},
   "outputs": [],
   "source": [
    "diff = diff.dt.total_seconds()\n",
    "nyc_taxi[\"time_interval\"] = diff"
   ]
  },
  {
   "cell_type": "markdown",
   "id": "2643f870-0168-4f5b-a59c-08ddf12cb675",
   "metadata": {},
   "source": [
    "*Extracting hour from pickup date time*"
   ]
  },
  {
   "cell_type": "code",
   "execution_count": null,
   "id": "b4f2102b-055a-4f84-a9f5-f86cd942a5c2",
   "metadata": {},
   "outputs": [],
   "source": [
    "nyc_taxi[\"hour\"] = nyc_taxi[\"tpep_pickup_datetime\"].dt.hour"
   ]
  },
  {
   "cell_type": "markdown",
   "id": "d53db804-dcad-4479-9ebd-9ee2f23ae68c",
   "metadata": {},
   "source": [
    "*Calculating average speed in meter/second for each trip*"
   ]
  },
  {
   "cell_type": "code",
   "execution_count": null,
   "id": "41fcfbba-904a-4b4a-bbbd-237ed1393d37",
   "metadata": {},
   "outputs": [],
   "source": [
    "nyc_taxi[\"avg_speed_ms\"] = (nyc_taxi[\"trip_distance\"] / nyc_taxi[\"time_interval\"])"
   ]
  },
  {
   "cell_type": "markdown",
   "id": "15533ff3-0a97-4e02-97a8-87c7eeede63f",
   "metadata": {},
   "source": [
    "### **Statistics of important variables**"
   ]
  },
  {
   "cell_type": "code",
   "execution_count": null,
   "id": "b42bd329-6185-4b4a-b71f-a99c35fba04f",
   "metadata": {},
   "outputs": [],
   "source": [
    "nyc_taxi.describe()"
   ]
  },
  {
   "cell_type": "code",
   "execution_count": null,
   "id": "26dfc321-c5f4-48f0-93ee-e603178dd968",
   "metadata": {},
   "outputs": [],
   "source": [
    "### **Data type**"
   ]
  },
  {
   "cell_type": "code",
   "execution_count": null,
   "id": "731a07c0-c77a-4702-a1a5-40e6170395ff",
   "metadata": {},
   "outputs": [],
   "source": [
    "nyc_taxi.info()"
   ]
  },
  {
   "cell_type": "markdown",
   "id": "e479e060-765e-4a96-aa52-6247144da658",
   "metadata": {},
   "source": [
    "*Since variable `passenger_count` and `RateCodeID` are categorical we need to convert it into `int` data type*"
   ]
  },
  {
   "cell_type": "code",
   "execution_count": null,
   "id": "2b8bf93d-33c7-483c-a87b-a150171bdf27",
   "metadata": {},
   "outputs": [],
   "source": [
    "nyc_taxi[\"passenger_count\"] = nyc_taxi[\"passenger_count\"].astype(\"int\")\n",
    "nyc_taxi[\"RatecodeID\"] = nyc_taxi[\"RatecodeID\"].astype(\"int\")"
   ]
  },
  {
   "cell_type": "markdown",
   "id": "6038cac7-3a8c-4e4d-95f6-bde81941943c",
   "metadata": {},
   "source": [
    "*replacing `negative` and `infinite` values from `avg_speed_ms` as `NA` because they are small or incorrectly classified*"
   ]
  },
  {
   "cell_type": "code",
   "execution_count": null,
   "id": "364a3183-dc0f-4ebb-bd7a-0aa53b691738",
   "metadata": {},
   "outputs": [],
   "source": [
    "pos1 = nyc_taxi[nyc_taxi[\"avg_speed_ms\"] < 0].index\n",
    "pos2 = nyc_taxi[nyc_taxi[\"avg_speed_ms\"] == np.inf].index\n",
    "pos = np.concatenate([pos1, pos2])\n",
    "nyc_taxi.loc[pos, \"avg_speed_ms\"] = np.nan"
   ]
  },
  {
   "cell_type": "markdown",
   "id": "a34d7b2a-cc37-4517-af4b-2b338dd73ed3",
   "metadata": {},
   "source": [
    "*remove all `NA` instances from the data*"
   ]
  },
  {
   "cell_type": "code",
   "execution_count": null,
   "id": "22dc704d-a035-4fb1-8ff1-50c5c8f0d3cc",
   "metadata": {},
   "outputs": [],
   "source": [
    "nyc_taxi.dropna(inplace=True)"
   ]
  },
  {
   "cell_type": "code",
   "execution_count": null,
   "id": "49600c56-e0d1-43c5-8e3b-17daf40a979b",
   "metadata": {},
   "outputs": [],
   "source": []
  }
 ],
 "metadata": {
  "kernelspec": {
   "display_name": "Python 3 (ipykernel)",
   "language": "python",
   "name": "python3"
  },
  "language_info": {
   "codemirror_mode": {
    "name": "ipython",
    "version": 3
   },
   "file_extension": ".py",
   "mimetype": "text/x-python",
   "name": "python",
   "nbconvert_exporter": "python",
   "pygments_lexer": "ipython3",
   "version": "3.9.11"
  }
 },
 "nbformat": 4,
 "nbformat_minor": 5
}
