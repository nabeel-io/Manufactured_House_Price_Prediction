{
 "cells": [
  {
   "cell_type": "code",
   "execution_count": 1,
   "id": "7b03d38b-d0e0-4af6-9431-f1d975318d18",
   "metadata": {},
   "outputs": [],
   "source": [
    "import pandas as pd\n",
    "import numpy as np\n",
    "import matplotlib.pyplot as plt\n",
    "import seaborn as sns"
   ]
  },
  {
   "cell_type": "code",
   "execution_count": 2,
   "id": "b330bfda-0120-4f01-ab4a-cca707f3105c",
   "metadata": {},
   "outputs": [],
   "source": [
    "# import data"
   ]
  },
  {
   "cell_type": "code",
   "execution_count": 3,
   "id": "ea73e489-3dbb-4abb-a157-04cabb1fb4b2",
   "metadata": {},
   "outputs": [],
   "source": [
    "train = np.load(\"data/train_matrix.npy\")\n",
    "train_label = np.load(\"data/train_labels.npy\")"
   ]
  },
  {
   "cell_type": "code",
   "execution_count": 4,
   "id": "773cdeba-fd89-458d-ae5c-287cee23668c",
   "metadata": {},
   "outputs": [],
   "source": [
    "test = np.load(\"data/test_matrix.npy\")\n",
    "test_labels = np.load(\"data/test_labels.npy\")"
   ]
  },
  {
   "cell_type": "code",
   "execution_count": 5,
   "id": "d49161ec-c66b-4d3c-a06d-a8ec8bcd5b22",
   "metadata": {},
   "outputs": [],
   "source": [
    "# split training data into training and validtion set"
   ]
  },
  {
   "cell_type": "code",
   "execution_count": 16,
   "id": "bccc270b-47d6-4c0d-818f-b6cb063ed819",
   "metadata": {},
   "outputs": [],
   "source": [
    "from sklearn.model_selection import train_test_split\n",
    "xtrain, xvalid, ytrain, yvalid = train_test_split(train, train_label, test_size=0.10, random_state=123) \n",
    "del train, train_label"
   ]
  },
  {
   "cell_type": "code",
   "execution_count": 7,
   "id": "b8d2c041-ba88-4248-a0f9-debdf84462b1",
   "metadata": {},
   "outputs": [],
   "source": [
    "# build sequential model"
   ]
  },
  {
   "cell_type": "code",
   "execution_count": 17,
   "id": "7bc74442-7c55-437c-a863-b5ce7caa51a2",
   "metadata": {},
   "outputs": [],
   "source": [
    "from tensorflow import keras"
   ]
  },
  {
   "cell_type": "code",
   "execution_count": 19,
   "id": "e9668837-94a4-44de-a528-7a344c3c5223",
   "metadata": {},
   "outputs": [],
   "source": [
    "model = keras.models.Sequential()\n",
    "model.add(keras.layers.Flatten(input_shape = xtrain[0].shape))\n",
    "model.add(keras.layers.Dense(200, activation=\"relu\"))\n",
    "model.add(keras.layers.Dense(200, activation=\"relu\"))\n",
    "model.add(keras.layers.Dense(1))"
   ]
  },
  {
   "cell_type": "code",
   "execution_count": 20,
   "id": "c8363272-f0bf-4f2c-ba92-68c7cb9bbe26",
   "metadata": {},
   "outputs": [
    {
     "name": "stdout",
     "output_type": "stream",
     "text": [
      "Model: \"sequential_2\"\n",
      "_________________________________________________________________\n",
      " Layer (type)                Output Shape              Param #   \n",
      "=================================================================\n",
      " flatten_2 (Flatten)         (None, 53)                0         \n",
      "                                                                 \n",
      " dense_8 (Dense)             (None, 200)               10800     \n",
      "                                                                 \n",
      " dense_9 (Dense)             (None, 200)               40200     \n",
      "                                                                 \n",
      " dense_10 (Dense)            (None, 1)                 201       \n",
      "                                                                 \n",
      "=================================================================\n",
      "Total params: 51,201\n",
      "Trainable params: 51,201\n",
      "Non-trainable params: 0\n",
      "_________________________________________________________________\n"
     ]
    }
   ],
   "source": [
    "model.summary()"
   ]
  },
  {
   "cell_type": "code",
   "execution_count": 21,
   "id": "c284bd4b-af75-4656-9ec8-668df095f505",
   "metadata": {},
   "outputs": [],
   "source": [
    "opt = keras.optimizers.Adam(learning_rate=0.01)\n",
    "model.compile(loss=\"mean_squared_error\", optimizer=opt, metrics=[keras.metrics.RootMeanSquaredError()])"
   ]
  },
  {
   "cell_type": "code",
   "execution_count": 22,
   "id": "27c1c38b-bd05-4d94-a547-5213d7d9e776",
   "metadata": {},
   "outputs": [
    {
     "name": "stdout",
     "output_type": "stream",
     "text": [
      "Epoch 1/30\n",
      "49/49 [==============================] - 8s 132ms/step - loss: 70.6686 - root_mean_squared_error: 8.4065 - val_loss: 27.9666 - val_root_mean_squared_error: 5.2883\n",
      "Epoch 2/30\n",
      "49/49 [==============================] - 6s 129ms/step - loss: 22.7324 - root_mean_squared_error: 4.7679 - val_loss: 16.2309 - val_root_mean_squared_error: 4.0288\n",
      "Epoch 3/30\n",
      "49/49 [==============================] - 6s 130ms/step - loss: 14.1549 - root_mean_squared_error: 3.7623 - val_loss: 11.8196 - val_root_mean_squared_error: 3.4380\n",
      "Epoch 4/30\n",
      "49/49 [==============================] - 7s 138ms/step - loss: 11.2759 - root_mean_squared_error: 3.3580 - val_loss: 10.2967 - val_root_mean_squared_error: 3.2088\n",
      "Epoch 5/30\n",
      "49/49 [==============================] - 6s 132ms/step - loss: 10.1664 - root_mean_squared_error: 3.1885 - val_loss: 9.4975 - val_root_mean_squared_error: 3.0818\n",
      "Epoch 6/30\n",
      "49/49 [==============================] - 7s 142ms/step - loss: 9.4695 - root_mean_squared_error: 3.0773 - val_loss: 9.1717 - val_root_mean_squared_error: 3.0285\n",
      "Epoch 7/30\n",
      "49/49 [==============================] - 7s 145ms/step - loss: 9.1244 - root_mean_squared_error: 3.0207 - val_loss: 8.8687 - val_root_mean_squared_error: 2.9780\n",
      "Epoch 8/30\n",
      "49/49 [==============================] - 7s 145ms/step - loss: 8.7945 - root_mean_squared_error: 2.9656 - val_loss: 8.5133 - val_root_mean_squared_error: 2.9178\n",
      "Epoch 9/30\n",
      "49/49 [==============================] - 7s 145ms/step - loss: 8.5816 - root_mean_squared_error: 2.9294 - val_loss: 8.3957 - val_root_mean_squared_error: 2.8975\n",
      "Epoch 10/30\n",
      "49/49 [==============================] - 7s 148ms/step - loss: 8.4061 - root_mean_squared_error: 2.8993 - val_loss: 8.3235 - val_root_mean_squared_error: 2.8850\n",
      "Epoch 11/30\n",
      "49/49 [==============================] - 7s 145ms/step - loss: 8.4666 - root_mean_squared_error: 2.9097 - val_loss: 8.2183 - val_root_mean_squared_error: 2.8668\n",
      "Epoch 12/30\n",
      "49/49 [==============================] - 7s 148ms/step - loss: 8.3404 - root_mean_squared_error: 2.8880 - val_loss: 8.0841 - val_root_mean_squared_error: 2.8433\n",
      "Epoch 13/30\n",
      "49/49 [==============================] - 7s 151ms/step - loss: 8.3703 - root_mean_squared_error: 2.8932 - val_loss: 8.0903 - val_root_mean_squared_error: 2.8443\n",
      "Epoch 14/30\n",
      "49/49 [==============================] - 7s 150ms/step - loss: 8.1143 - root_mean_squared_error: 2.8486 - val_loss: 7.9868 - val_root_mean_squared_error: 2.8261\n",
      "Epoch 15/30\n",
      "49/49 [==============================] - 7s 148ms/step - loss: 8.0940 - root_mean_squared_error: 2.8450 - val_loss: 7.8247 - val_root_mean_squared_error: 2.7973\n",
      "Epoch 16/30\n",
      "49/49 [==============================] - 7s 146ms/step - loss: 8.0766 - root_mean_squared_error: 2.8419 - val_loss: 8.0198 - val_root_mean_squared_error: 2.8319\n",
      "Epoch 17/30\n",
      "49/49 [==============================] - 8s 153ms/step - loss: 8.0331 - root_mean_squared_error: 2.8343 - val_loss: 7.7178 - val_root_mean_squared_error: 2.7781\n",
      "Epoch 18/30\n",
      "49/49 [==============================] - 7s 149ms/step - loss: 7.8878 - root_mean_squared_error: 2.8085 - val_loss: 7.6883 - val_root_mean_squared_error: 2.7728\n",
      "Epoch 19/30\n",
      "49/49 [==============================] - 7s 146ms/step - loss: 7.8694 - root_mean_squared_error: 2.8052 - val_loss: 8.2254 - val_root_mean_squared_error: 2.8680\n",
      "Epoch 20/30\n",
      "49/49 [==============================] - 7s 147ms/step - loss: 8.0864 - root_mean_squared_error: 2.8437 - val_loss: 7.8506 - val_root_mean_squared_error: 2.8019\n",
      "Epoch 21/30\n",
      "49/49 [==============================] - 7s 148ms/step - loss: 7.8390 - root_mean_squared_error: 2.7998 - val_loss: 8.9738 - val_root_mean_squared_error: 2.9956\n",
      "Epoch 22/30\n",
      "49/49 [==============================] - 7s 149ms/step - loss: 7.7764 - root_mean_squared_error: 2.7886 - val_loss: 7.5096 - val_root_mean_squared_error: 2.7404\n",
      "Epoch 23/30\n",
      "49/49 [==============================] - 7s 148ms/step - loss: 7.7685 - root_mean_squared_error: 2.7872 - val_loss: 7.6071 - val_root_mean_squared_error: 2.7581\n",
      "Epoch 24/30\n",
      "49/49 [==============================] - 7s 145ms/step - loss: 7.8875 - root_mean_squared_error: 2.8085 - val_loss: 7.4344 - val_root_mean_squared_error: 2.7266\n",
      "Epoch 25/30\n",
      "49/49 [==============================] - 7s 147ms/step - loss: 7.5603 - root_mean_squared_error: 2.7496 - val_loss: 7.3982 - val_root_mean_squared_error: 2.7200\n",
      "Epoch 26/30\n",
      "49/49 [==============================] - 7s 146ms/step - loss: 7.7490 - root_mean_squared_error: 2.7837 - val_loss: 8.3272 - val_root_mean_squared_error: 2.8857\n",
      "Epoch 27/30\n",
      "49/49 [==============================] - 7s 148ms/step - loss: 7.7164 - root_mean_squared_error: 2.7778 - val_loss: 7.5910 - val_root_mean_squared_error: 2.7552\n",
      "Epoch 28/30\n",
      "49/49 [==============================] - 7s 147ms/step - loss: 7.6381 - root_mean_squared_error: 2.7637 - val_loss: 7.5803 - val_root_mean_squared_error: 2.7532\n",
      "Epoch 29/30\n",
      "49/49 [==============================] - 7s 146ms/step - loss: 7.4960 - root_mean_squared_error: 2.7379 - val_loss: 7.3460 - val_root_mean_squared_error: 2.7103\n",
      "Epoch 30/30\n",
      "49/49 [==============================] - 7s 146ms/step - loss: 7.7808 - root_mean_squared_error: 2.7894 - val_loss: 7.3468 - val_root_mean_squared_error: 2.7105\n"
     ]
    }
   ],
   "source": [
    "history = model.fit(xtrain, ytrain, \n",
    "          batch_size=50000, \n",
    "          epochs=30, \n",
    "          validation_data=(xvalid, yvalid))"
   ]
  },
  {
   "cell_type": "code",
   "execution_count": 23,
   "id": "a0640600-f199-4bc6-9ecb-75b7354fc99c",
   "metadata": {},
   "outputs": [
    {
     "data": {
      "text/html": [
       "<div>\n",
       "<style scoped>\n",
       "    .dataframe tbody tr th:only-of-type {\n",
       "        vertical-align: middle;\n",
       "    }\n",
       "\n",
       "    .dataframe tbody tr th {\n",
       "        vertical-align: top;\n",
       "    }\n",
       "\n",
       "    .dataframe thead th {\n",
       "        text-align: right;\n",
       "    }\n",
       "</style>\n",
       "<table border=\"1\" class=\"dataframe\">\n",
       "  <thead>\n",
       "    <tr style=\"text-align: right;\">\n",
       "      <th></th>\n",
       "      <th>loss</th>\n",
       "      <th>root_mean_squared_error</th>\n",
       "      <th>val_loss</th>\n",
       "      <th>val_root_mean_squared_error</th>\n",
       "    </tr>\n",
       "  </thead>\n",
       "  <tbody>\n",
       "    <tr>\n",
       "      <th>25</th>\n",
       "      <td>7.749039</td>\n",
       "      <td>2.783710</td>\n",
       "      <td>8.327181</td>\n",
       "      <td>2.885685</td>\n",
       "    </tr>\n",
       "    <tr>\n",
       "      <th>26</th>\n",
       "      <td>7.716361</td>\n",
       "      <td>2.777834</td>\n",
       "      <td>7.590971</td>\n",
       "      <td>2.755172</td>\n",
       "    </tr>\n",
       "    <tr>\n",
       "      <th>27</th>\n",
       "      <td>7.638144</td>\n",
       "      <td>2.763719</td>\n",
       "      <td>7.580341</td>\n",
       "      <td>2.753242</td>\n",
       "    </tr>\n",
       "    <tr>\n",
       "      <th>28</th>\n",
       "      <td>7.496011</td>\n",
       "      <td>2.737885</td>\n",
       "      <td>7.345973</td>\n",
       "      <td>2.710346</td>\n",
       "    </tr>\n",
       "    <tr>\n",
       "      <th>29</th>\n",
       "      <td>7.780832</td>\n",
       "      <td>2.789414</td>\n",
       "      <td>7.346806</td>\n",
       "      <td>2.710499</td>\n",
       "    </tr>\n",
       "  </tbody>\n",
       "</table>\n",
       "</div>"
      ],
      "text/plain": [
       "        loss  root_mean_squared_error  val_loss  val_root_mean_squared_error\n",
       "25  7.749039                 2.783710  8.327181                     2.885685\n",
       "26  7.716361                 2.777834  7.590971                     2.755172\n",
       "27  7.638144                 2.763719  7.580341                     2.753242\n",
       "28  7.496011                 2.737885  7.345973                     2.710346\n",
       "29  7.780832                 2.789414  7.346806                     2.710499"
      ]
     },
     "execution_count": 23,
     "metadata": {},
     "output_type": "execute_result"
    }
   ],
   "source": [
    "loss = pd.DataFrame(history.history)\n",
    "loss.tail()"
   ]
  },
  {
   "cell_type": "code",
   "execution_count": 26,
   "id": "cf747f8a-55de-4f02-a66e-e02c925f2284",
   "metadata": {},
   "outputs": [
    {
     "data": {
      "image/png": "[encoded data removed]",
      "text/plain": [
       "<Figure size 800x300 with 2 Axes>"
      ]
     },
     "metadata": {
      "needs_background": "light"
     },
     "output_type": "display_data"
    }
   ],
   "source": [
    "fig, axes = plt.subplots(ncols=2,figsize=(8,3), dpi=100)\n",
    "sns.lineplot(data=loss.loc[:,[\"loss\",\"root_mean_squared_error\"]], palette=\"RdPu\",linewidth=2.0, ax=axes[0]);\n",
    "sns.lineplot(data=loss.loc[:,[\"val_loss\",\"val_root_mean_squared_error\"]], palette=\"BuGn\",linewidth=2.0, ax=axes[1]);"
   ]
  },
  {
   "cell_type": "code",
   "execution_count": 27,
   "id": "e31590fa-170f-48d9-b401-80d45a21e83c",
   "metadata": {},
   "outputs": [
    {
     "name": "stdout",
     "output_type": "stream",
     "text": [
      "28102/28102 [==============================] - 24s 853us/step - loss: 1143.9923 - root_mean_squared_error: 33.8230\n"
     ]
    },
    {
     "data": {
      "text/plain": [
       "[1143.9923095703125, 33.82295608520508]"
      ]
     },
     "execution_count": 27,
     "metadata": {},
     "output_type": "execute_result"
    }
   ],
   "source": [
    "model.evaluate(test, test_labels)"
   ]
  },
  {
   "cell_type": "code",
   "execution_count": null,
   "id": "6e69cced-3878-47ab-a729-f3b407fdce15",
   "metadata": {},
   "outputs": [],
   "source": []
  }
 ],
 "metadata": {
  "kernelspec": {
   "display_name": "Python 3 (ipykernel)",
   "language": "python",
   "name": "python3"
  },
  "language_info": {
   "codemirror_mode": {
    "name": "ipython",
    "version": 3
   },
   "file_extension": ".py",
   "mimetype": "text/x-python",
   "name": "python",
   "nbconvert_exporter": "python",
   "pygments_lexer": "ipython3",
   "version": "3.9.11"
  }
 },
 "nbformat": 4,
 "nbformat_minor": 5
}
