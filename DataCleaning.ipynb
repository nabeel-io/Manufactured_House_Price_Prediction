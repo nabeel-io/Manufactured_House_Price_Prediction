{
 "cells": [
  {
   "cell_type": "code",
   "execution_count": 1,
   "id": "16716b48-685e-4da7-be6b-7ace7cb6d458",
   "metadata": {},
   "outputs": [],
   "source": [
    "import numpy as np\n",
    "import pandas as pd"
   ]
  },
  {
   "cell_type": "code",
   "execution_count": 4,
   "id": "3f19b9f8-510d-4270-9aef-a9d7cc386e26",
   "metadata": {},
   "outputs": [
    {
     "data": {
      "text/html": [
       "<div>\n",
       "<style scoped>\n",
       "    .dataframe tbody tr th:only-of-type {\n",
       "        vertical-align: middle;\n",
       "    }\n",
       "\n",
       "    .dataframe tbody tr th {\n",
       "        vertical-align: top;\n",
       "    }\n",
       "\n",
       "    .dataframe thead th {\n",
       "        text-align: right;\n",
       "    }\n",
       "</style>\n",
       "<table border=\"1\" class=\"dataframe\">\n",
       "  <thead>\n",
       "    <tr style=\"text-align: right;\">\n",
       "      <th></th>\n",
       "      <th>VendorID</th>\n",
       "      <th>tpep_pickup_datetime</th>\n",
       "      <th>tpep_dropoff_datetime</th>\n",
       "      <th>passenger_count</th>\n",
       "      <th>trip_distance</th>\n",
       "      <th>RatecodeID</th>\n",
       "      <th>store_and_fwd_flag</th>\n",
       "      <th>PULocationID</th>\n",
       "      <th>DOLocationID</th>\n",
       "      <th>payment_type</th>\n",
       "      <th>fare_amount</th>\n",
       "      <th>extra</th>\n",
       "      <th>mta_tax</th>\n",
       "      <th>tip_amount</th>\n",
       "      <th>tolls_amount</th>\n",
       "      <th>improvement_surcharge</th>\n",
       "      <th>total_amount</th>\n",
       "      <th>congestion_surcharge</th>\n",
       "      <th>airport_fee</th>\n",
       "    </tr>\n",
       "  </thead>\n",
       "  <tbody>\n",
       "    <tr>\n",
       "      <th>0</th>\n",
       "      <td>1</td>\n",
       "      <td>2022-03-01 00:13:08</td>\n",
       "      <td>2022-03-01 00:24:35</td>\n",
       "      <td>1.0</td>\n",
       "      <td>2.40</td>\n",
       "      <td>1.0</td>\n",
       "      <td>N</td>\n",
       "      <td>90</td>\n",
       "      <td>209</td>\n",
       "      <td>2</td>\n",
       "      <td>10.0</td>\n",
       "      <td>3.0</td>\n",
       "      <td>0.5</td>\n",
       "      <td>0.00</td>\n",
       "      <td>0.0</td>\n",
       "      <td>0.3</td>\n",
       "      <td>13.80</td>\n",
       "      <td>2.5</td>\n",
       "      <td>0.00</td>\n",
       "    </tr>\n",
       "    <tr>\n",
       "      <th>1</th>\n",
       "      <td>1</td>\n",
       "      <td>2022-03-01 00:47:52</td>\n",
       "      <td>2022-03-01 01:00:08</td>\n",
       "      <td>1.0</td>\n",
       "      <td>2.20</td>\n",
       "      <td>1.0</td>\n",
       "      <td>N</td>\n",
       "      <td>148</td>\n",
       "      <td>234</td>\n",
       "      <td>2</td>\n",
       "      <td>10.5</td>\n",
       "      <td>3.0</td>\n",
       "      <td>0.5</td>\n",
       "      <td>0.00</td>\n",
       "      <td>0.0</td>\n",
       "      <td>0.3</td>\n",
       "      <td>14.30</td>\n",
       "      <td>2.5</td>\n",
       "      <td>0.00</td>\n",
       "    </tr>\n",
       "    <tr>\n",
       "      <th>2</th>\n",
       "      <td>2</td>\n",
       "      <td>2022-03-01 00:02:46</td>\n",
       "      <td>2022-03-01 00:46:43</td>\n",
       "      <td>1.0</td>\n",
       "      <td>19.78</td>\n",
       "      <td>2.0</td>\n",
       "      <td>N</td>\n",
       "      <td>132</td>\n",
       "      <td>249</td>\n",
       "      <td>1</td>\n",
       "      <td>52.0</td>\n",
       "      <td>0.0</td>\n",
       "      <td>0.5</td>\n",
       "      <td>11.06</td>\n",
       "      <td>0.0</td>\n",
       "      <td>0.3</td>\n",
       "      <td>67.61</td>\n",
       "      <td>2.5</td>\n",
       "      <td>1.25</td>\n",
       "    </tr>\n",
       "    <tr>\n",
       "      <th>3</th>\n",
       "      <td>2</td>\n",
       "      <td>2022-03-01 00:52:43</td>\n",
       "      <td>2022-03-01 01:03:40</td>\n",
       "      <td>2.0</td>\n",
       "      <td>2.94</td>\n",
       "      <td>1.0</td>\n",
       "      <td>N</td>\n",
       "      <td>211</td>\n",
       "      <td>66</td>\n",
       "      <td>1</td>\n",
       "      <td>11.0</td>\n",
       "      <td>0.5</td>\n",
       "      <td>0.5</td>\n",
       "      <td>4.44</td>\n",
       "      <td>0.0</td>\n",
       "      <td>0.3</td>\n",
       "      <td>19.24</td>\n",
       "      <td>2.5</td>\n",
       "      <td>0.00</td>\n",
       "    </tr>\n",
       "    <tr>\n",
       "      <th>4</th>\n",
       "      <td>2</td>\n",
       "      <td>2022-03-01 00:15:35</td>\n",
       "      <td>2022-03-01 00:34:13</td>\n",
       "      <td>1.0</td>\n",
       "      <td>8.57</td>\n",
       "      <td>1.0</td>\n",
       "      <td>N</td>\n",
       "      <td>138</td>\n",
       "      <td>197</td>\n",
       "      <td>1</td>\n",
       "      <td>25.0</td>\n",
       "      <td>0.5</td>\n",
       "      <td>0.5</td>\n",
       "      <td>5.51</td>\n",
       "      <td>0.0</td>\n",
       "      <td>0.3</td>\n",
       "      <td>33.06</td>\n",
       "      <td>0.0</td>\n",
       "      <td>1.25</td>\n",
       "    </tr>\n",
       "  </tbody>\n",
       "</table>\n",
       "</div>"
      ],
      "text/plain": [
       "   VendorID tpep_pickup_datetime tpep_dropoff_datetime  passenger_count  \\\n",
       "0         1  2022-03-01 00:13:08   2022-03-01 00:24:35              1.0   \n",
       "1         1  2022-03-01 00:47:52   2022-03-01 01:00:08              1.0   \n",
       "2         2  2022-03-01 00:02:46   2022-03-01 00:46:43              1.0   \n",
       "3         2  2022-03-01 00:52:43   2022-03-01 01:03:40              2.0   \n",
       "4         2  2022-03-01 00:15:35   2022-03-01 00:34:13              1.0   \n",
       "\n",
       "   trip_distance  RatecodeID store_and_fwd_flag  PULocationID  DOLocationID  \\\n",
       "0           2.40         1.0                  N            90           209   \n",
       "1           2.20         1.0                  N           148           234   \n",
       "2          19.78         2.0                  N           132           249   \n",
       "3           2.94         1.0                  N           211            66   \n",
       "4           8.57         1.0                  N           138           197   \n",
       "\n",
       "   payment_type  fare_amount  extra  mta_tax  tip_amount  tolls_amount  \\\n",
       "0             2         10.0    3.0      0.5        0.00           0.0   \n",
       "1             2         10.5    3.0      0.5        0.00           0.0   \n",
       "2             1         52.0    0.0      0.5       11.06           0.0   \n",
       "3             1         11.0    0.5      0.5        4.44           0.0   \n",
       "4             1         25.0    0.5      0.5        5.51           0.0   \n",
       "\n",
       "   improvement_surcharge  total_amount  congestion_surcharge  airport_fee  \n",
       "0                    0.3         13.80                   2.5         0.00  \n",
       "1                    0.3         14.30                   2.5         0.00  \n",
       "2                    0.3         67.61                   2.5         1.25  \n",
       "3                    0.3         19.24                   2.5         0.00  \n",
       "4                    0.3         33.06                   0.0         1.25  "
      ]
     },
     "execution_count": 4,
     "metadata": {},
     "output_type": "execute_result"
    }
   ],
   "source": [
    "nyc_taxi = pd.read_parquet(\"data/yellow_tripdata_2022-03.parquet\")\n",
    "nyc_taxi.head()"
   ]
  },
  {
   "cell_type": "code",
   "execution_count": 5,
   "id": "6ec70d3c-1456-465b-b178-0187365329d9",
   "metadata": {},
   "outputs": [],
   "source": [
    "# drop non essential columns"
   ]
  },
  {
   "cell_type": "code",
   "execution_count": 6,
   "id": "2df88d50-d119-4278-af4c-c33af81cdc69",
   "metadata": {},
   "outputs": [
    {
     "data": {
      "text/html": [
       "<div>\n",
       "<style scoped>\n",
       "    .dataframe tbody tr th:only-of-type {\n",
       "        vertical-align: middle;\n",
       "    }\n",
       "\n",
       "    .dataframe tbody tr th {\n",
       "        vertical-align: top;\n",
       "    }\n",
       "\n",
       "    .dataframe thead th {\n",
       "        text-align: right;\n",
       "    }\n",
       "</style>\n",
       "<table border=\"1\" class=\"dataframe\">\n",
       "  <thead>\n",
       "    <tr style=\"text-align: right;\">\n",
       "      <th></th>\n",
       "      <th>VendorID</th>\n",
       "      <th>tpep_pickup_datetime</th>\n",
       "      <th>tpep_dropoff_datetime</th>\n",
       "      <th>passenger_count</th>\n",
       "      <th>trip_distance</th>\n",
       "      <th>RatecodeID</th>\n",
       "      <th>PULocationID</th>\n",
       "      <th>DOLocationID</th>\n",
       "      <th>payment_type</th>\n",
       "      <th>fare_amount</th>\n",
       "      <th>extra</th>\n",
       "      <th>mta_tax</th>\n",
       "      <th>tip_amount</th>\n",
       "      <th>tolls_amount</th>\n",
       "      <th>improvement_surcharge</th>\n",
       "      <th>total_amount</th>\n",
       "    </tr>\n",
       "  </thead>\n",
       "  <tbody>\n",
       "    <tr>\n",
       "      <th>0</th>\n",
       "      <td>1</td>\n",
       "      <td>2022-03-01 00:13:08</td>\n",
       "      <td>2022-03-01 00:24:35</td>\n",
       "      <td>1.0</td>\n",
       "      <td>2.40</td>\n",
       "      <td>1.0</td>\n",
       "      <td>90</td>\n",
       "      <td>209</td>\n",
       "      <td>2</td>\n",
       "      <td>10.0</td>\n",
       "      <td>3.0</td>\n",
       "      <td>0.5</td>\n",
       "      <td>0.00</td>\n",
       "      <td>0.0</td>\n",
       "      <td>0.3</td>\n",
       "      <td>13.80</td>\n",
       "    </tr>\n",
       "    <tr>\n",
       "      <th>1</th>\n",
       "      <td>1</td>\n",
       "      <td>2022-03-01 00:47:52</td>\n",
       "      <td>2022-03-01 01:00:08</td>\n",
       "      <td>1.0</td>\n",
       "      <td>2.20</td>\n",
       "      <td>1.0</td>\n",
       "      <td>148</td>\n",
       "      <td>234</td>\n",
       "      <td>2</td>\n",
       "      <td>10.5</td>\n",
       "      <td>3.0</td>\n",
       "      <td>0.5</td>\n",
       "      <td>0.00</td>\n",
       "      <td>0.0</td>\n",
       "      <td>0.3</td>\n",
       "      <td>14.30</td>\n",
       "    </tr>\n",
       "    <tr>\n",
       "      <th>2</th>\n",
       "      <td>2</td>\n",
       "      <td>2022-03-01 00:02:46</td>\n",
       "      <td>2022-03-01 00:46:43</td>\n",
       "      <td>1.0</td>\n",
       "      <td>19.78</td>\n",
       "      <td>2.0</td>\n",
       "      <td>132</td>\n",
       "      <td>249</td>\n",
       "      <td>1</td>\n",
       "      <td>52.0</td>\n",
       "      <td>0.0</td>\n",
       "      <td>0.5</td>\n",
       "      <td>11.06</td>\n",
       "      <td>0.0</td>\n",
       "      <td>0.3</td>\n",
       "      <td>67.61</td>\n",
       "    </tr>\n",
       "    <tr>\n",
       "      <th>3</th>\n",
       "      <td>2</td>\n",
       "      <td>2022-03-01 00:52:43</td>\n",
       "      <td>2022-03-01 01:03:40</td>\n",
       "      <td>2.0</td>\n",
       "      <td>2.94</td>\n",
       "      <td>1.0</td>\n",
       "      <td>211</td>\n",
       "      <td>66</td>\n",
       "      <td>1</td>\n",
       "      <td>11.0</td>\n",
       "      <td>0.5</td>\n",
       "      <td>0.5</td>\n",
       "      <td>4.44</td>\n",
       "      <td>0.0</td>\n",
       "      <td>0.3</td>\n",
       "      <td>19.24</td>\n",
       "    </tr>\n",
       "    <tr>\n",
       "      <th>4</th>\n",
       "      <td>2</td>\n",
       "      <td>2022-03-01 00:15:35</td>\n",
       "      <td>2022-03-01 00:34:13</td>\n",
       "      <td>1.0</td>\n",
       "      <td>8.57</td>\n",
       "      <td>1.0</td>\n",
       "      <td>138</td>\n",
       "      <td>197</td>\n",
       "      <td>1</td>\n",
       "      <td>25.0</td>\n",
       "      <td>0.5</td>\n",
       "      <td>0.5</td>\n",
       "      <td>5.51</td>\n",
       "      <td>0.0</td>\n",
       "      <td>0.3</td>\n",
       "      <td>33.06</td>\n",
       "    </tr>\n",
       "  </tbody>\n",
       "</table>\n",
       "</div>"
      ],
      "text/plain": [
       "   VendorID tpep_pickup_datetime tpep_dropoff_datetime  passenger_count  \\\n",
       "0         1  2022-03-01 00:13:08   2022-03-01 00:24:35              1.0   \n",
       "1         1  2022-03-01 00:47:52   2022-03-01 01:00:08              1.0   \n",
       "2         2  2022-03-01 00:02:46   2022-03-01 00:46:43              1.0   \n",
       "3         2  2022-03-01 00:52:43   2022-03-01 01:03:40              2.0   \n",
       "4         2  2022-03-01 00:15:35   2022-03-01 00:34:13              1.0   \n",
       "\n",
       "   trip_distance  RatecodeID  PULocationID  DOLocationID  payment_type  \\\n",
       "0           2.40         1.0            90           209             2   \n",
       "1           2.20         1.0           148           234             2   \n",
       "2          19.78         2.0           132           249             1   \n",
       "3           2.94         1.0           211            66             1   \n",
       "4           8.57         1.0           138           197             1   \n",
       "\n",
       "   fare_amount  extra  mta_tax  tip_amount  tolls_amount  \\\n",
       "0         10.0    3.0      0.5        0.00           0.0   \n",
       "1         10.5    3.0      0.5        0.00           0.0   \n",
       "2         52.0    0.0      0.5       11.06           0.0   \n",
       "3         11.0    0.5      0.5        4.44           0.0   \n",
       "4         25.0    0.5      0.5        5.51           0.0   \n",
       "\n",
       "   improvement_surcharge  total_amount  \n",
       "0                    0.3         13.80  \n",
       "1                    0.3         14.30  \n",
       "2                    0.3         67.61  \n",
       "3                    0.3         19.24  \n",
       "4                    0.3         33.06  "
      ]
     },
     "execution_count": 6,
     "metadata": {},
     "output_type": "execute_result"
    }
   ],
   "source": [
    "# store_and_fwd_flag : technical\n",
    "# congestion_surcharge and airport_fee not part of total amount paid by customer\n",
    "nyc_taxi.drop([\"store_and_fwd_flag\", \"congestion_surcharge\", \"airport_fee\"],axis=1, inplace=True)\n",
    "nyc_taxi.head()"
   ]
  },
  {
   "cell_type": "code",
   "execution_count": 12,
   "id": "8323e357-7c59-4e75-88b1-e0614258d582",
   "metadata": {},
   "outputs": [
    {
     "data": {
      "text/plain": [
       "(3627882, 16)"
      ]
     },
     "execution_count": 12,
     "metadata": {},
     "output_type": "execute_result"
    }
   ],
   "source": [
    "nyc_taxi.shape"
   ]
  },
  {
   "cell_type": "code",
   "execution_count": 13,
   "id": "32b05035-5449-4d44-aa7b-cf76d3427f18",
   "metadata": {},
   "outputs": [],
   "source": [
    "# removing instances with missing values"
   ]
  },
  {
   "cell_type": "code",
   "execution_count": 14,
   "id": "c63c64b9-6b56-4d17-ac80-908d5556ce98",
   "metadata": {},
   "outputs": [
    {
     "data": {
      "text/plain": [
       "VendorID                      0\n",
       "tpep_pickup_datetime          0\n",
       "tpep_dropoff_datetime         0\n",
       "passenger_count          117814\n",
       "trip_distance                 0\n",
       "RatecodeID               117814\n",
       "PULocationID                  0\n",
       "DOLocationID                  0\n",
       "payment_type                  0\n",
       "fare_amount                   0\n",
       "extra                         0\n",
       "mta_tax                       0\n",
       "tip_amount                    0\n",
       "tolls_amount                  0\n",
       "improvement_surcharge         0\n",
       "total_amount                  0\n",
       "dtype: int64"
      ]
     },
     "execution_count": 14,
     "metadata": {},
     "output_type": "execute_result"
    }
   ],
   "source": [
    "nyc_taxi.isna().sum()"
   ]
  },
  {
   "cell_type": "code",
   "execution_count": 17,
   "id": "56017934-5592-4167-b997-6bf114147080",
   "metadata": {},
   "outputs": [
    {
     "data": {
      "text/plain": [
       "1.0     0.921587\n",
       "2.0     0.033114\n",
       "5.0     0.005875\n",
       "99.0    0.003550\n",
       "3.0     0.002237\n",
       "4.0     0.001156\n",
       "6.0     0.000007\n",
       "Name: RatecodeID, dtype: float64"
      ]
     },
     "execution_count": 17,
     "metadata": {},
     "output_type": "execute_result"
    }
   ],
   "source": [
    "nyc_taxi[\"RatecodeID\"].value_counts()/len(nyc_taxi)"
   ]
  },
  {
   "cell_type": "code",
   "execution_count": 52,
   "id": "39cca182-36fb-48a4-ba62-8447d1552571",
   "metadata": {},
   "outputs": [],
   "source": [
    "miss_pos = nyc_taxi[nyc_taxi[\"RatecodeID\"].isna()].index"
   ]
  },
  {
   "cell_type": "code",
   "execution_count": 58,
   "id": "7d4482e6-5e4f-4571-8533-568a3a243874",
   "metadata": {},
   "outputs": [],
   "source": [
    "meanrt1 = nyc_taxi[nyc_taxi[\"RatecodeID\"] == 1.0][\"total_amount\"].mean()\n",
    "meanrt2 = nyc_taxi[nyc_taxi[\"RatecodeID\"] == 2.0][\"total_amount\"].mean()\n",
    "stdrt1 = nyc_taxi[nyc_taxi[\"RatecodeID\"] == 1.0][\"total_amount\"].std()\n",
    "stdrt2 = nyc_taxi[nyc_taxi[\"RatecodeID\"] == 2.0][\"total_amount\"].std()\n",
    "for pos in miss_pos:\n",
    "    payment = nyc_taxi[\"total_amount\"][pos]\n",
    "    if (payment >= (meanrt1 - stdrt1)) | (payment <= meanrt1 + stdrt1):\n",
    "        nyc_taxi.loc[pos,\"RatecodeID\"] = 1.0\n",
    "    elif (payment >= (meanrt2 - stdrt2)) | (payment <= meanrt2 + stdrt2):\n",
    "        nyc_taxi.loc[pos,\"RatecodeID\"] = 2.0\n",
    "    else:\n",
    "        nyc_taxi.loc[pos,\"RatecodeID\"] = 1.0"
   ]
  },
  {
   "cell_type": "code",
   "execution_count": 59,
   "id": "01b7c52c-caa1-455c-a25d-7b46793e19a3",
   "metadata": {},
   "outputs": [
    {
     "data": {
      "text/plain": [
       "VendorID                      0\n",
       "tpep_pickup_datetime          0\n",
       "tpep_dropoff_datetime         0\n",
       "passenger_count          117814\n",
       "trip_distance                 0\n",
       "RatecodeID                    0\n",
       "PULocationID                  0\n",
       "DOLocationID                  0\n",
       "payment_type                  0\n",
       "fare_amount                   0\n",
       "extra                         0\n",
       "mta_tax                       0\n",
       "tip_amount                    0\n",
       "tolls_amount                  0\n",
       "improvement_surcharge         0\n",
       "total_amount                  0\n",
       "dtype: int64"
      ]
     },
     "execution_count": 59,
     "metadata": {},
     "output_type": "execute_result"
    }
   ],
   "source": [
    "nyc_taxi.isna().sum()"
   ]
  },
  {
   "cell_type": "code",
   "execution_count": 37,
   "id": "33dd8a09-6387-4c67-9f83-cd9fef8493fc",
   "metadata": {},
   "outputs": [
    {
     "data": {
      "text/plain": [
       "1.0    0.72\n",
       "2.0    0.14\n",
       "3.0    0.04\n",
       "0.0    0.02\n",
       "5.0    0.02\n",
       "4.0    0.01\n",
       "6.0    0.01\n",
       "7.0    0.00\n",
       "8.0    0.00\n",
       "9.0    0.00\n",
       "Name: passenger_count, dtype: float64"
      ]
     },
     "execution_count": 37,
     "metadata": {},
     "output_type": "execute_result"
    }
   ],
   "source": [
    "np.round(nyc_taxi[\"passenger_count\"].value_counts()/len(nyc_taxi),2)"
   ]
  },
  {
   "cell_type": "code",
   "execution_count": 84,
   "id": "37a99af4-584b-4ee7-b4da-3abde1825878",
   "metadata": {
    "tags": []
   },
   "outputs": [],
   "source": [
    "nyc_taxi.loc[nyc_taxi[nyc_taxi[\"passenger_count\"].isna()].index, \"passenger_count\"] = 1.0"
   ]
  },
  {
   "cell_type": "code",
   "execution_count": 85,
   "id": "40d44581-ff98-4012-b2a5-50431ec1cb08",
   "metadata": {},
   "outputs": [
    {
     "data": {
      "text/plain": [
       "VendorID                 0\n",
       "tpep_pickup_datetime     0\n",
       "tpep_dropoff_datetime    0\n",
       "passenger_count          0\n",
       "trip_distance            0\n",
       "RatecodeID               0\n",
       "PULocationID             0\n",
       "DOLocationID             0\n",
       "payment_type             0\n",
       "fare_amount              0\n",
       "extra                    0\n",
       "mta_tax                  0\n",
       "tip_amount               0\n",
       "tolls_amount             0\n",
       "improvement_surcharge    0\n",
       "total_amount             0\n",
       "dtype: int64"
      ]
     },
     "execution_count": 85,
     "metadata": {},
     "output_type": "execute_result"
    }
   ],
   "source": [
    "nyc_taxi.isna().sum()"
   ]
  },
  {
   "cell_type": "code",
   "execution_count": 7,
   "id": "f51d8190-63c3-4b9c-9f55-0d705cf5b88e",
   "metadata": {},
   "outputs": [],
   "source": [
    "# proper data types of attributes"
   ]
  },
  {
   "cell_type": "code",
   "execution_count": 88,
   "id": "cab0847a-811e-4bae-ba78-c106252dfe9d",
   "metadata": {},
   "outputs": [
    {
     "name": "stdout",
     "output_type": "stream",
     "text": [
      "<class 'pandas.core.frame.DataFrame'>\n",
      "RangeIndex: 3627882 entries, 0 to 3627881\n",
      "Data columns (total 16 columns):\n",
      " #   Column                 Dtype         \n",
      "---  ------                 -----         \n",
      " 0   VendorID               int64         \n",
      " 1   tpep_pickup_datetime   datetime64[ns]\n",
      " 2   tpep_dropoff_datetime  datetime64[ns]\n",
      " 3   passenger_count        int64         \n",
      " 4   trip_distance          float64       \n",
      " 5   RatecodeID             float64       \n",
      " 6   PULocationID           int64         \n",
      " 7   DOLocationID           int64         \n",
      " 8   payment_type           int64         \n",
      " 9   fare_amount            float64       \n",
      " 10  extra                  float64       \n",
      " 11  mta_tax                float64       \n",
      " 12  tip_amount             float64       \n",
      " 13  tolls_amount           float64       \n",
      " 14  improvement_surcharge  float64       \n",
      " 15  total_amount           float64       \n",
      "dtypes: datetime64[ns](2), float64(9), int64(5)\n",
      "memory usage: 442.9 MB\n"
     ]
    }
   ],
   "source": [
    "nyc_taxi.info()"
   ]
  },
  {
   "cell_type": "code",
   "execution_count": 93,
   "id": "3b5ea714-d689-4964-9a8d-9268300ae365",
   "metadata": {},
   "outputs": [],
   "source": [
    "nyc_taxi[\"passenger_count\"] = nyc_taxi[\"passenger_count\"].astype(\"int\")\n",
    "nyc_taxi[\"RatecodeID\"] = nyc_taxi[\"RatecodeID\"].astype(\"int\")"
   ]
  },
  {
   "cell_type": "code",
   "execution_count": 94,
   "id": "b9f3f4a8-b887-42c3-9174-14fb7bdb57cd",
   "metadata": {},
   "outputs": [],
   "source": [
    "# reducing the size of data"
   ]
  },
  {
   "cell_type": "code",
   "execution_count": 95,
   "id": "85f9bf87-c42a-4bed-ac67-62fce6896193",
   "metadata": {},
   "outputs": [],
   "source": [
    "for col in nyc_taxi.columns:\n",
    "    if nyc_taxi[col].dtype == \"int64\":\n",
    "        nyc_taxi[col] = nyc_taxi[col].astype(\"int16\")\n",
    "    elif nyc_taxi[col].dtype == \"float64\":\n",
    "        nyc_taxi[col] = nyc_taxi[col].astype(\"float16\")\n",
    "    else:\n",
    "        pass"
   ]
  },
  {
   "cell_type": "code",
   "execution_count": 96,
   "id": "7299c68d-af54-42ed-8556-436a9b67bc24",
   "metadata": {},
   "outputs": [
    {
     "name": "stdout",
     "output_type": "stream",
     "text": [
      "<class 'pandas.core.frame.DataFrame'>\n",
      "RangeIndex: 3627882 entries, 0 to 3627881\n",
      "Data columns (total 16 columns):\n",
      " #   Column                 Dtype         \n",
      "---  ------                 -----         \n",
      " 0   VendorID               int16         \n",
      " 1   tpep_pickup_datetime   datetime64[ns]\n",
      " 2   tpep_dropoff_datetime  datetime64[ns]\n",
      " 3   passenger_count        int16         \n",
      " 4   trip_distance          float16       \n",
      " 5   RatecodeID             int16         \n",
      " 6   PULocationID           int16         \n",
      " 7   DOLocationID           int16         \n",
      " 8   payment_type           int16         \n",
      " 9   fare_amount            float16       \n",
      " 10  extra                  float16       \n",
      " 11  mta_tax                float16       \n",
      " 12  tip_amount             float16       \n",
      " 13  tolls_amount           float16       \n",
      " 14  improvement_surcharge  float16       \n",
      " 15  total_amount           float16       \n",
      "dtypes: datetime64[ns](2), float16(8), int16(6)\n",
      "memory usage: 152.2 MB\n"
     ]
    }
   ],
   "source": [
    "nyc_taxi.info()"
   ]
  },
  {
   "cell_type": "code",
   "execution_count": 99,
   "id": "343d0358-c56e-45ab-ada7-1e817a8af7ca",
   "metadata": {},
   "outputs": [],
   "source": [
    "nyc_taxi = nyc_taxi.sample(frac=1.0)\n",
    "nyc_taxi = nyc_taxi.reset_index(drop=True)"
   ]
  },
  {
   "cell_type": "code",
   "execution_count": 106,
   "id": "db8d2345-77fb-401a-85dc-cd94c0329bbf",
   "metadata": {},
   "outputs": [],
   "source": [
    "test_size = int(np.floor(0.25 * nyc_taxi.shape[0]))\n",
    "test = nyc_taxi[:test_size]\n",
    "train = nyc_taxi[test_size:] "
   ]
  },
  {
   "cell_type": "code",
   "execution_count": 110,
   "id": "067ec58f-c45d-4a6b-8925-0313090f036c",
   "metadata": {},
   "outputs": [],
   "source": [
    "test.to_pickle(\"data/test.pickle\")\n",
    "train.to_pickle(\"data/train.pickle\")"
   ]
  },
  {
   "cell_type": "code",
   "execution_count": null,
   "id": "77b0cfe8-2b9f-4b14-93d4-cea5a1f93c7c",
   "metadata": {},
   "outputs": [],
   "source": []
  }
 ],
 "metadata": {
  "kernelspec": {
   "display_name": "Python 3 (ipykernel)",
   "language": "python",
   "name": "python3"
  },
  "language_info": {
   "codemirror_mode": {
    "name": "ipython",
    "version": 3
   },
   "file_extension": ".py",
   "mimetype": "text/x-python",
   "name": "python",
   "nbconvert_exporter": "python",
   "pygments_lexer": "ipython3",
   "version": "3.9.11"
  }
 },
 "nbformat": 4,
 "nbformat_minor": 5
}
