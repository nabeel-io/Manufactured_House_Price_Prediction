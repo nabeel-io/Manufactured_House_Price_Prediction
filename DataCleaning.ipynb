{
 "cells": [
  {
   "cell_type": "markdown",
   "id": "1e839b2d-afc6-4b57-9e7e-9979b9517114",
   "metadata": {},
   "source": [
    "## **Data Cleaning**"
   ]
  },
  {
   "cell_type": "markdown",
   "id": "cd34842b-7c00-4342-b633-844831f3af6b",
   "metadata": {},
   "source": [
    " **Importing basic libraries**"
   ]
  },
  {
   "cell_type": "code",
   "execution_count": 10,
   "id": "16716b48-685e-4da7-be6b-7ace7cb6d458",
   "metadata": {},
   "outputs": [],
   "source": [
    "import numpy as np\n",
    "import pandas as pd"
   ]
  },
  {
   "cell_type": "markdown",
   "id": "9c9d1c39-5ea0-4b62-a86b-334bbef55e82",
   "metadata": {},
   "source": [
    "**Importing data**"
   ]
  },
  {
   "cell_type": "code",
   "execution_count": 11,
   "id": "3f19b9f8-510d-4270-9aef-a9d7cc386e26",
   "metadata": {},
   "outputs": [],
   "source": [
    "# importing data\n",
    "nyc_taxi = pd.read_parquet(\"data/yellow_tripdata_2022-03.parquet\")"
   ]
  },
  {
   "cell_type": "markdown",
   "id": "821d4e0c-728b-4fcc-aaa3-1fae209e8499",
   "metadata": {},
   "source": [
    "**Removing non essential features**\n",
    "\n",
    "*In our analysis `store_and_fwd_flag`, `fare_amount`, `extra` , `mta_tax`, `tip_amount` ,`tolls_amount` ,\n",
    "`improvement_surcharge`, `congestion_surcharge`, `airport_fee` are dropped.*"
   ]
  },
  {
   "cell_type": "code",
   "execution_count": 13,
   "id": "58fa0c75-07ac-4281-8546-5ea05e1aed61",
   "metadata": {},
   "outputs": [],
   "source": [
    "drop_cols = [\"store_and_fwd_flag\", \"store_and_fwd_flag\", \"fare_amount\", \"extra\" , \"mta_tax\", \"tip_amount\",\n",
    "              \"tolls_amount\" , \"improvement_surcharge\", \"congestion_surcharge\", \"airport_fee\"]\n",
    "nyc_taxi.drop(drop_cols, axis=1,inplace=True)"
   ]
  },
  {
   "cell_type": "markdown",
   "id": "308a40e2-5b57-4e9f-8dc1-b2dfcfb101c7",
   "metadata": {},
   "source": [
    "### **Missing Values**"
   ]
  },
  {
   "cell_type": "code",
   "execution_count": 14,
   "id": "ae03153f-9027-493f-8954-7c7d3b7364d4",
   "metadata": {},
   "outputs": [
    {
     "data": {
      "text/plain": [
       "VendorID                      0\n",
       "tpep_pickup_datetime          0\n",
       "tpep_dropoff_datetime         0\n",
       "passenger_count          117814\n",
       "trip_distance                 0\n",
       "RatecodeID               117814\n",
       "PULocationID                  0\n",
       "DOLocationID                  0\n",
       "payment_type                  0\n",
       "total_amount                  0\n",
       "dtype: int64"
      ]
     },
     "execution_count": 14,
     "metadata": {},
     "output_type": "execute_result"
    }
   ],
   "source": [
    "nyc_taxi.isna().sum()"
   ]
  },
  {
   "cell_type": "markdown",
   "id": "03ef2f35-9a19-4ddc-bd2b-7eba7042a07e",
   "metadata": {},
   "source": [
    "*There are `117814` values are missing from column `passenger_count` and `Rate_Code_ID`*"
   ]
  },
  {
   "cell_type": "markdown",
   "id": "72c0ad9a-aaa1-4001-a479-afe5a785100f",
   "metadata": {},
   "source": [
    "**Dealing with RatecodeID**"
   ]
  },
  {
   "cell_type": "markdown",
   "id": "53c49620-71a5-4536-983d-da900808d6e4",
   "metadata": {},
   "source": [
    "*Majority of instances belong to category 1 and 2. If the payment value lies within 1 SD of mean value of total_amount for category 2 \n",
    "we assign it values 2 all else are assigned value 1*"
   ]
  },
  {
   "cell_type": "code",
   "execution_count": 15,
   "id": "56017934-5592-4167-b997-6bf114147080",
   "metadata": {},
   "outputs": [
    {
     "data": {
      "text/plain": [
       "1.0     0.921587\n",
       "2.0     0.033114\n",
       "5.0     0.005875\n",
       "99.0    0.003550\n",
       "3.0     0.002237\n",
       "4.0     0.001156\n",
       "6.0     0.000007\n",
       "Name: RatecodeID, dtype: float64"
      ]
     },
     "execution_count": 15,
     "metadata": {},
     "output_type": "execute_result"
    }
   ],
   "source": [
    "nyc_taxi[\"RatecodeID\"].value_counts()/len(nyc_taxi)"
   ]
  },
  {
   "cell_type": "code",
   "execution_count": 16,
   "id": "c92b4191-950d-483c-916f-81b9794223b3",
   "metadata": {},
   "outputs": [],
   "source": [
    "miss_pos = nyc_taxi[nyc_taxi[\"RatecodeID\"].isna()].index\n",
    "meanrt2 = nyc_taxi[nyc_taxi[\"RatecodeID\"] == 2.0][\"total_amount\"].mean()\n",
    "stdrt2 = nyc_taxi[nyc_taxi[\"RatecodeID\"] == 2.0][\"total_amount\"].std()\n",
    "for pos in miss_pos:\n",
    "    payment = nyc_taxi[\"total_amount\"][pos]\n",
    "    if (payment >= (meanrt2 - stdrt2)) | (payment <= meanrt2 + stdrt2):\n",
    "        nyc_taxi.loc[pos,\"RatecodeID\"] = 2.0\n",
    "    else:\n",
    "        nyc_taxi.loc[pos,\"RatecodeID\"] = 1.0"
   ]
  },
  {
   "cell_type": "markdown",
   "id": "05acef48-def3-40c0-b55b-6c4b8ae4a316",
   "metadata": {},
   "source": [
    "**Dealing with passenger_count**"
   ]
  },
  {
   "cell_type": "code",
   "execution_count": 17,
   "id": "133b0475-1e03-4797-8363-9f3d949d3f90",
   "metadata": {},
   "outputs": [
    {
     "data": {
      "text/plain": [
       "1.0    0.72\n",
       "2.0    0.14\n",
       "3.0    0.04\n",
       "0.0    0.02\n",
       "5.0    0.02\n",
       "4.0    0.01\n",
       "6.0    0.01\n",
       "7.0    0.00\n",
       "8.0    0.00\n",
       "9.0    0.00\n",
       "Name: passenger_count, dtype: float64"
      ]
     },
     "execution_count": 17,
     "metadata": {},
     "output_type": "execute_result"
    }
   ],
   "source": [
    "np.round(nyc_taxi[\"passenger_count\"].value_counts()/len(nyc_taxi),2)"
   ]
  },
  {
   "cell_type": "markdown",
   "id": "c7dd4a32-1e49-4361-8c79-b29e000ee949",
   "metadata": {},
   "source": [
    "*Impute all missing class with  `category 1` as it is the majority class in most instances*"
   ]
  },
  {
   "cell_type": "code",
   "execution_count": 18,
   "id": "50e1d657-979c-4ad0-aba3-ce90090560f0",
   "metadata": {},
   "outputs": [],
   "source": [
    "nyc_taxi.loc[nyc_taxi[nyc_taxi[\"passenger_count\"].isna()].index, \"passenger_count\"] = 1.0"
   ]
  },
  {
   "cell_type": "markdown",
   "id": "7905c0f1-9296-4166-a96c-fa73a3caa455",
   "metadata": {},
   "source": [
    "*All missing instances are now filled with appropriate value*"
   ]
  },
  {
   "cell_type": "code",
   "execution_count": 20,
   "id": "17d44197-926e-4205-8df4-6183b7f1db87",
   "metadata": {},
   "outputs": [
    {
     "data": {
      "text/plain": [
       "VendorID                 0\n",
       "tpep_pickup_datetime     0\n",
       "tpep_dropoff_datetime    0\n",
       "passenger_count          0\n",
       "trip_distance            0\n",
       "RatecodeID               0\n",
       "PULocationID             0\n",
       "DOLocationID             0\n",
       "payment_type             0\n",
       "total_amount             0\n",
       "dtype: int64"
      ]
     },
     "execution_count": 20,
     "metadata": {},
     "output_type": "execute_result"
    }
   ],
   "source": [
    "nyc_taxi.isna().sum()"
   ]
  },
  {
   "cell_type": "markdown",
   "id": "7d6d2f47-18a2-492f-b47e-a8391905ddb9",
   "metadata": {},
   "source": [
    "### **Data Type**"
   ]
  },
  {
   "cell_type": "code",
   "execution_count": 21,
   "id": "857b5796-9205-495b-9e1f-60a073711d61",
   "metadata": {},
   "outputs": [
    {
     "name": "stdout",
     "output_type": "stream",
     "text": [
      "<class 'pandas.core.frame.DataFrame'>\n",
      "RangeIndex: 3627882 entries, 0 to 3627881\n",
      "Data columns (total 10 columns):\n",
      " #   Column                 Dtype         \n",
      "---  ------                 -----         \n",
      " 0   VendorID               int64         \n",
      " 1   tpep_pickup_datetime   datetime64[ns]\n",
      " 2   tpep_dropoff_datetime  datetime64[ns]\n",
      " 3   passenger_count        float64       \n",
      " 4   trip_distance          float64       \n",
      " 5   RatecodeID             float64       \n",
      " 6   PULocationID           int64         \n",
      " 7   DOLocationID           int64         \n",
      " 8   payment_type           int64         \n",
      " 9   total_amount           float64       \n",
      "dtypes: datetime64[ns](2), float64(4), int64(4)\n",
      "memory usage: 276.8 MB\n"
     ]
    }
   ],
   "source": [
    "nyc_taxi.info()"
   ]
  },
  {
   "cell_type": "markdown",
   "id": "3742a18f-be87-4630-9eb4-c574ddda09c6",
   "metadata": {},
   "source": [
    "*Since `passenger_count` and `RatecodeID` are categorical variables we will change there data type from float to int*"
   ]
  },
  {
   "cell_type": "code",
   "execution_count": 22,
   "id": "3b5ea714-d689-4964-9a8d-9268300ae365",
   "metadata": {},
   "outputs": [],
   "source": [
    "nyc_taxi[\"passenger_count\"] = nyc_taxi[\"passenger_count\"].astype(\"int\")\n",
    "nyc_taxi[\"RatecodeID\"] = nyc_taxi[\"RatecodeID\"].astype(\"int\")"
   ]
  },
  {
   "cell_type": "markdown",
   "id": "69444563-1033-4b2e-b3c1-4cd22401ef69",
   "metadata": {},
   "source": [
    "*Convert the `int64` datatype to `int16` to save memory space*"
   ]
  },
  {
   "cell_type": "code",
   "execution_count": 23,
   "id": "94bb6293-915a-461a-bc3b-ea641c83f027",
   "metadata": {},
   "outputs": [],
   "source": [
    "for col in nyc_taxi.columns:\n",
    "    if nyc_taxi[col].dtype == \"int64\":\n",
    "        nyc_taxi[col] = nyc_taxi[col].astype(\"int16\")\n",
    "    else:\n",
    "        pass"
   ]
  },
  {
   "cell_type": "markdown",
   "id": "addd79f8-7f52-4037-bd45-26b363d803ff",
   "metadata": {},
   "source": [
    "*We don't convert the `float64` because it needs `high precision`*"
   ]
  },
  {
   "cell_type": "code",
   "execution_count": 25,
   "id": "7299c68d-af54-42ed-8556-436a9b67bc24",
   "metadata": {},
   "outputs": [
    {
     "name": "stdout",
     "output_type": "stream",
     "text": [
      "<class 'pandas.core.frame.DataFrame'>\n",
      "RangeIndex: 3627882 entries, 0 to 3627881\n",
      "Data columns (total 10 columns):\n",
      " #   Column                 Dtype         \n",
      "---  ------                 -----         \n",
      " 0   VendorID               int16         \n",
      " 1   tpep_pickup_datetime   datetime64[ns]\n",
      " 2   tpep_dropoff_datetime  datetime64[ns]\n",
      " 3   passenger_count        int16         \n",
      " 4   trip_distance          float64       \n",
      " 5   RatecodeID             int16         \n",
      " 6   PULocationID           int16         \n",
      " 7   DOLocationID           int16         \n",
      " 8   payment_type           int16         \n",
      " 9   total_amount           float64       \n",
      "dtypes: datetime64[ns](2), float64(2), int16(6)\n",
      "memory usage: 152.2 MB\n"
     ]
    }
   ],
   "source": [
    "# required format\n",
    "nyc_taxi.info()"
   ]
  },
  {
   "cell_type": "markdown",
   "id": "384ca532-0211-4731-bc3b-9ed44aa06330",
   "metadata": {},
   "source": [
    "*Reduce the size of dataframe by 45%*"
   ]
  },
  {
   "cell_type": "markdown",
   "id": "5d74216b-4479-481c-90b4-a3f33a79aa93",
   "metadata": {},
   "source": [
    "### **Saving the dataframe in pickle file**"
   ]
  },
  {
   "cell_type": "code",
   "execution_count": 28,
   "id": "872cbe73-e83b-4452-b276-a6d87828a23a",
   "metadata": {},
   "outputs": [],
   "source": [
    "nyc_taxi.to_pickle(\"data/nyc_taxi.pickle\")"
   ]
  },
  {
   "cell_type": "code",
   "execution_count": 29,
   "id": "77b0cfe8-2b9f-4b14-93d4-cea5a1f93c7c",
   "metadata": {},
   "outputs": [
    {
     "data": {
      "text/html": [
       "<div>\n",
       "<style scoped>\n",
       "    .dataframe tbody tr th:only-of-type {\n",
       "        vertical-align: middle;\n",
       "    }\n",
       "\n",
       "    .dataframe tbody tr th {\n",
       "        vertical-align: top;\n",
       "    }\n",
       "\n",
       "    .dataframe thead th {\n",
       "        text-align: right;\n",
       "    }\n",
       "</style>\n",
       "<table border=\"1\" class=\"dataframe\">\n",
       "  <thead>\n",
       "    <tr style=\"text-align: right;\">\n",
       "      <th></th>\n",
       "      <th>VendorID</th>\n",
       "      <th>passenger_count</th>\n",
       "      <th>trip_distance</th>\n",
       "      <th>RatecodeID</th>\n",
       "      <th>PULocationID</th>\n",
       "      <th>DOLocationID</th>\n",
       "      <th>payment_type</th>\n",
       "      <th>total_amount</th>\n",
       "    </tr>\n",
       "  </thead>\n",
       "  <tbody>\n",
       "    <tr>\n",
       "      <th>count</th>\n",
       "      <td>3.627882e+06</td>\n",
       "      <td>3.627882e+06</td>\n",
       "      <td>3.627882e+06</td>\n",
       "      <td>3.627882e+06</td>\n",
       "      <td>3.627882e+06</td>\n",
       "      <td>3.627882e+06</td>\n",
       "      <td>3.627882e+06</td>\n",
       "      <td>3.627882e+06</td>\n",
       "    </tr>\n",
       "    <tr>\n",
       "      <th>mean</th>\n",
       "      <td>1.714948e+00</td>\n",
       "      <td>1.376396e+00</td>\n",
       "      <td>5.761290e+00</td>\n",
       "      <td>1.444936e+00</td>\n",
       "      <td>1.649635e+02</td>\n",
       "      <td>1.630534e+02</td>\n",
       "      <td>1.180307e+00</td>\n",
       "      <td>2.059364e+01</td>\n",
       "    </tr>\n",
       "    <tr>\n",
       "      <th>std</th>\n",
       "      <td>4.984502e-01</td>\n",
       "      <td>9.596307e-01</td>\n",
       "      <td>5.694616e+02</td>\n",
       "      <td>5.837187e+00</td>\n",
       "      <td>6.503559e+01</td>\n",
       "      <td>6.997796e+01</td>\n",
       "      <td>4.971751e-01</td>\n",
       "      <td>1.653309e+01</td>\n",
       "    </tr>\n",
       "    <tr>\n",
       "      <th>min</th>\n",
       "      <td>1.000000e+00</td>\n",
       "      <td>0.000000e+00</td>\n",
       "      <td>0.000000e+00</td>\n",
       "      <td>1.000000e+00</td>\n",
       "      <td>1.000000e+00</td>\n",
       "      <td>1.000000e+00</td>\n",
       "      <td>0.000000e+00</td>\n",
       "      <td>-8.953000e+02</td>\n",
       "    </tr>\n",
       "    <tr>\n",
       "      <th>25%</th>\n",
       "      <td>1.000000e+00</td>\n",
       "      <td>1.000000e+00</td>\n",
       "      <td>1.100000e+00</td>\n",
       "      <td>1.000000e+00</td>\n",
       "      <td>1.320000e+02</td>\n",
       "      <td>1.130000e+02</td>\n",
       "      <td>1.000000e+00</td>\n",
       "      <td>1.184000e+01</td>\n",
       "    </tr>\n",
       "    <tr>\n",
       "      <th>50%</th>\n",
       "      <td>2.000000e+00</td>\n",
       "      <td>1.000000e+00</td>\n",
       "      <td>1.830000e+00</td>\n",
       "      <td>1.000000e+00</td>\n",
       "      <td>1.620000e+02</td>\n",
       "      <td>1.620000e+02</td>\n",
       "      <td>1.000000e+00</td>\n",
       "      <td>1.536000e+01</td>\n",
       "    </tr>\n",
       "    <tr>\n",
       "      <th>75%</th>\n",
       "      <td>2.000000e+00</td>\n",
       "      <td>1.000000e+00</td>\n",
       "      <td>3.400000e+00</td>\n",
       "      <td>1.000000e+00</td>\n",
       "      <td>2.340000e+02</td>\n",
       "      <td>2.340000e+02</td>\n",
       "      <td>1.000000e+00</td>\n",
       "      <td>2.182000e+01</td>\n",
       "    </tr>\n",
       "    <tr>\n",
       "      <th>max</th>\n",
       "      <td>6.000000e+00</td>\n",
       "      <td>9.000000e+00</td>\n",
       "      <td>2.862598e+05</td>\n",
       "      <td>9.900000e+01</td>\n",
       "      <td>2.650000e+02</td>\n",
       "      <td>2.650000e+02</td>\n",
       "      <td>5.000000e+00</td>\n",
       "      <td>1.783850e+03</td>\n",
       "    </tr>\n",
       "  </tbody>\n",
       "</table>\n",
       "</div>"
      ],
      "text/plain": [
       "           VendorID  passenger_count  trip_distance    RatecodeID  \\\n",
       "count  3.627882e+06     3.627882e+06   3.627882e+06  3.627882e+06   \n",
       "mean   1.714948e+00     1.376396e+00   5.761290e+00  1.444936e+00   \n",
       "std    4.984502e-01     9.596307e-01   5.694616e+02  5.837187e+00   \n",
       "min    1.000000e+00     0.000000e+00   0.000000e+00  1.000000e+00   \n",
       "25%    1.000000e+00     1.000000e+00   1.100000e+00  1.000000e+00   \n",
       "50%    2.000000e+00     1.000000e+00   1.830000e+00  1.000000e+00   \n",
       "75%    2.000000e+00     1.000000e+00   3.400000e+00  1.000000e+00   \n",
       "max    6.000000e+00     9.000000e+00   2.862598e+05  9.900000e+01   \n",
       "\n",
       "       PULocationID  DOLocationID  payment_type  total_amount  \n",
       "count  3.627882e+06  3.627882e+06  3.627882e+06  3.627882e+06  \n",
       "mean   1.649635e+02  1.630534e+02  1.180307e+00  2.059364e+01  \n",
       "std    6.503559e+01  6.997796e+01  4.971751e-01  1.653309e+01  \n",
       "min    1.000000e+00  1.000000e+00  0.000000e+00 -8.953000e+02  \n",
       "25%    1.320000e+02  1.130000e+02  1.000000e+00  1.184000e+01  \n",
       "50%    1.620000e+02  1.620000e+02  1.000000e+00  1.536000e+01  \n",
       "75%    2.340000e+02  2.340000e+02  1.000000e+00  2.182000e+01  \n",
       "max    2.650000e+02  2.650000e+02  5.000000e+00  1.783850e+03  "
      ]
     },
     "execution_count": 29,
     "metadata": {},
     "output_type": "execute_result"
    }
   ],
   "source": [
    "nyc_taxi.describe()"
   ]
  },
  {
   "cell_type": "code",
   "execution_count": null,
   "id": "5d4ffa05-c851-4aef-939c-70d0b392c28e",
   "metadata": {},
   "outputs": [],
   "source": []
  }
 ],
 "metadata": {
  "kernelspec": {
   "display_name": "Python 3 (ipykernel)",
   "language": "python",
   "name": "python3"
  },
  "language_info": {
   "codemirror_mode": {
    "name": "ipython",
    "version": 3
   },
   "file_extension": ".py",
   "mimetype": "text/x-python",
   "name": "python",
   "nbconvert_exporter": "python",
   "pygments_lexer": "ipython3",
   "version": "3.9.11"
  }
 },
 "nbformat": 4,
 "nbformat_minor": 5
}
