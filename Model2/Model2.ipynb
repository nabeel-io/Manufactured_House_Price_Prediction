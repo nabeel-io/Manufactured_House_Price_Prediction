{
 "cells": [
  {
   "cell_type": "markdown",
   "id": "8c86a476-7bb3-4b07-8012-735989f0cab5",
   "metadata": {},
   "source": [
    "# **ANN Model**"
   ]
  },
  {
   "cell_type": "code",
   "execution_count": 16,
   "id": "7b03d38b-d0e0-4af6-9431-f1d975318d18",
   "metadata": {},
   "outputs": [],
   "source": [
    "import pandas as pd\n",
    "import numpy as np\n",
    "import matplotlib.pyplot as plt\n",
    "import seaborn as sns\n",
    "sns.reset_defaults()"
   ]
  },
  {
   "cell_type": "markdown",
   "id": "d2210255-21ee-4df9-a215-7de6cf1e197e",
   "metadata": {},
   "source": [
    "### **Import Data**"
   ]
  },
  {
   "cell_type": "code",
   "execution_count": 2,
   "id": "ea73e489-3dbb-4abb-a157-04cabb1fb4b2",
   "metadata": {},
   "outputs": [],
   "source": [
    "train = np.load(\"data/train_matrix.npy\")\n",
    "train_label = np.load(\"data/train_labels.npy\")"
   ]
  },
  {
   "cell_type": "code",
   "execution_count": 3,
   "id": "773cdeba-fd89-458d-ae5c-287cee23668c",
   "metadata": {},
   "outputs": [],
   "source": [
    "test = np.load(\"data/test_matrix.npy\")\n",
    "test_labels = np.load(\"data/test_labels.npy\")"
   ]
  },
  {
   "cell_type": "markdown",
   "id": "71d6632c-aaa7-4795-903b-b8cf9aa18cc0",
   "metadata": {},
   "source": [
    "### **Split training data into training and validtion set**"
   ]
  },
  {
   "cell_type": "code",
   "execution_count": 4,
   "id": "bccc270b-47d6-4c0d-818f-b6cb063ed819",
   "metadata": {},
   "outputs": [],
   "source": [
    "from sklearn.model_selection import train_test_split\n",
    "xtrain, xvalid, ytrain, yvalid = train_test_split(train, train_label, test_size=0.10, random_state=123) \n",
    "del train, train_label"
   ]
  },
  {
   "cell_type": "markdown",
   "id": "ac6937e6-a87f-4a5b-a405-b819f8f43744",
   "metadata": {},
   "source": [
    "### **Build sequential model**"
   ]
  },
  {
   "cell_type": "code",
   "execution_count": 6,
   "id": "7bc74442-7c55-437c-a863-b5ce7caa51a2",
   "metadata": {},
   "outputs": [],
   "source": [
    "from tensorflow import keras"
   ]
  },
  {
   "cell_type": "code",
   "execution_count": 8,
   "id": "e9668837-94a4-44de-a528-7a344c3c5223",
   "metadata": {},
   "outputs": [],
   "source": [
    "model = keras.models.Sequential()\n",
    "model.add(keras.layers.Flatten(input_shape = xtrain[0].shape))\n",
    "model.add(keras.layers.Dense(100, activation=\"relu\"))\n",
    "model.add(keras.layers.Dense(100, activation=\"relu\"))\n",
    "model.add(keras.layers.Dense(100, activation=\"relu\"))\n",
    "model.add(keras.layers.Dense(1))"
   ]
  },
  {
   "cell_type": "code",
   "execution_count": 9,
   "id": "c8363272-f0bf-4f2c-ba92-68c7cb9bbe26",
   "metadata": {},
   "outputs": [
    {
     "name": "stdout",
     "output_type": "stream",
     "text": [
      "Model: \"sequential_1\"\n",
      "_________________________________________________________________\n",
      " Layer (type)                Output Shape              Param #   \n",
      "=================================================================\n",
      " flatten_1 (Flatten)         (None, 53)                0         \n",
      "                                                                 \n",
      " dense_4 (Dense)             (None, 100)               5400      \n",
      "                                                                 \n",
      " dense_5 (Dense)             (None, 100)               10100     \n",
      "                                                                 \n",
      " dense_6 (Dense)             (None, 100)               10100     \n",
      "                                                                 \n",
      " dense_7 (Dense)             (None, 1)                 101       \n",
      "                                                                 \n",
      "=================================================================\n",
      "Total params: 25,701\n",
      "Trainable params: 25,701\n",
      "Non-trainable params: 0\n",
      "_________________________________________________________________\n"
     ]
    }
   ],
   "source": [
    "model.summary()"
   ]
  },
  {
   "cell_type": "code",
   "execution_count": 10,
   "id": "c284bd4b-af75-4656-9ec8-668df095f505",
   "metadata": {},
   "outputs": [],
   "source": [
    "opt = keras.optimizers.Adam(learning_rate=0.01)\n",
    "model.compile(loss=\"mean_squared_error\", optimizer=opt, metrics=[keras.metrics.RootMeanSquaredError()])"
   ]
  },
  {
   "cell_type": "markdown",
   "id": "05404d7f-2745-46df-a841-9f4a7e934dfc",
   "metadata": {},
   "source": [
    "### **Train model**"
   ]
  },
  {
   "cell_type": "code",
   "execution_count": 11,
   "id": "27c1c38b-bd05-4d94-a547-5213d7d9e776",
   "metadata": {},
   "outputs": [
    {
     "name": "stderr",
     "output_type": "stream",
     "text": [
      "2022-08-21 17:45:26.396552: W tensorflow/core/framework/cpu_allocator_impl.cc:82] Allocation of 513062260 exceeds 10% of free system memory.\n"
     ]
    },
    {
     "name": "stdout",
     "output_type": "stream",
     "text": [
      "Epoch 1/75\n",
      "243/243 [==============================] - 6s 18ms/step - loss: 35.4691 - root_mean_squared_error: 5.9556 - val_loss: 11.4239 - val_root_mean_squared_error: 3.3799\n",
      "Epoch 2/75\n",
      "243/243 [==============================] - 4s 17ms/step - loss: 10.0076 - root_mean_squared_error: 3.1635 - val_loss: 11.0860 - val_root_mean_squared_error: 3.3296\n",
      "Epoch 3/75\n",
      "243/243 [==============================] - 5s 19ms/step - loss: 8.9184 - root_mean_squared_error: 2.9864 - val_loss: 8.8706 - val_root_mean_squared_error: 2.9784\n",
      "Epoch 4/75\n",
      "243/243 [==============================] - 4s 17ms/step - loss: 8.4936 - root_mean_squared_error: 2.9144 - val_loss: 13.3436 - val_root_mean_squared_error: 3.6529\n",
      "Epoch 5/75\n",
      "243/243 [==============================] - 4s 17ms/step - loss: 8.3994 - root_mean_squared_error: 2.8982 - val_loss: 8.2089 - val_root_mean_squared_error: 2.8651\n",
      "Epoch 6/75\n",
      "243/243 [==============================] - 4s 17ms/step - loss: 8.1467 - root_mean_squared_error: 2.8542 - val_loss: 11.0904 - val_root_mean_squared_error: 3.3302\n",
      "Epoch 7/75\n",
      "243/243 [==============================] - 4s 17ms/step - loss: 8.0138 - root_mean_squared_error: 2.8309 - val_loss: 8.3241 - val_root_mean_squared_error: 2.8851\n",
      "Epoch 8/75\n",
      "243/243 [==============================] - 4s 17ms/step - loss: 7.7860 - root_mean_squared_error: 2.7903 - val_loss: 14.5251 - val_root_mean_squared_error: 3.8112\n",
      "Epoch 9/75\n",
      "243/243 [==============================] - 4s 17ms/step - loss: 8.0019 - root_mean_squared_error: 2.8288 - val_loss: 8.2926 - val_root_mean_squared_error: 2.8797\n",
      "Epoch 10/75\n",
      "243/243 [==============================] - 4s 17ms/step - loss: 7.5650 - root_mean_squared_error: 2.7505 - val_loss: 7.4202 - val_root_mean_squared_error: 2.7240\n",
      "Epoch 11/75\n",
      "243/243 [==============================] - 4s 18ms/step - loss: 7.4343 - root_mean_squared_error: 2.7266 - val_loss: 12.2687 - val_root_mean_squared_error: 3.5027\n",
      "Epoch 12/75\n",
      "243/243 [==============================] - 5s 19ms/step - loss: 7.4873 - root_mean_squared_error: 2.7363 - val_loss: 17.2987 - val_root_mean_squared_error: 4.1592\n",
      "Epoch 13/75\n",
      "243/243 [==============================] - 5s 19ms/step - loss: 7.5060 - root_mean_squared_error: 2.7397 - val_loss: 9.6552 - val_root_mean_squared_error: 3.1073\n",
      "Epoch 14/75\n",
      "243/243 [==============================] - 5s 19ms/step - loss: 7.4478 - root_mean_squared_error: 2.7291 - val_loss: 8.5409 - val_root_mean_squared_error: 2.9225\n",
      "Epoch 15/75\n",
      "243/243 [==============================] - 5s 19ms/step - loss: 7.3044 - root_mean_squared_error: 2.7027 - val_loss: 7.5203 - val_root_mean_squared_error: 2.7423\n",
      "Epoch 16/75\n",
      "243/243 [==============================] - 5s 19ms/step - loss: 7.1420 - root_mean_squared_error: 2.6725 - val_loss: 9.4070 - val_root_mean_squared_error: 3.0671\n",
      "Epoch 17/75\n",
      "243/243 [==============================] - 5s 20ms/step - loss: 7.1066 - root_mean_squared_error: 2.6658 - val_loss: 7.0722 - val_root_mean_squared_error: 2.6594\n",
      "Epoch 18/75\n",
      "243/243 [==============================] - 5s 19ms/step - loss: 7.0281 - root_mean_squared_error: 2.6511 - val_loss: 7.0580 - val_root_mean_squared_error: 2.6567\n",
      "Epoch 19/75\n",
      "243/243 [==============================] - 5s 19ms/step - loss: 6.9831 - root_mean_squared_error: 2.6425 - val_loss: 9.9980 - val_root_mean_squared_error: 3.1620\n",
      "Epoch 20/75\n",
      "243/243 [==============================] - 5s 19ms/step - loss: 7.0666 - root_mean_squared_error: 2.6583 - val_loss: 8.8886 - val_root_mean_squared_error: 2.9814\n",
      "Epoch 21/75\n",
      "243/243 [==============================] - 5s 19ms/step - loss: 7.0244 - root_mean_squared_error: 2.6504 - val_loss: 10.1730 - val_root_mean_squared_error: 3.1895\n",
      "Epoch 22/75\n",
      "243/243 [==============================] - 5s 19ms/step - loss: 6.9058 - root_mean_squared_error: 2.6279 - val_loss: 7.1009 - val_root_mean_squared_error: 2.6648\n",
      "Epoch 23/75\n",
      "243/243 [==============================] - 5s 19ms/step - loss: 6.7901 - root_mean_squared_error: 2.6058 - val_loss: 7.0551 - val_root_mean_squared_error: 2.6561\n",
      "Epoch 24/75\n",
      "243/243 [==============================] - 5s 19ms/step - loss: 6.7548 - root_mean_squared_error: 2.5990 - val_loss: 6.9177 - val_root_mean_squared_error: 2.6301\n",
      "Epoch 25/75\n",
      "243/243 [==============================] - 5s 19ms/step - loss: 6.7127 - root_mean_squared_error: 2.5909 - val_loss: 7.8762 - val_root_mean_squared_error: 2.8065\n",
      "Epoch 26/75\n",
      "243/243 [==============================] - 5s 19ms/step - loss: 6.6623 - root_mean_squared_error: 2.5811 - val_loss: 6.8943 - val_root_mean_squared_error: 2.6257\n",
      "Epoch 27/75\n",
      "243/243 [==============================] - 5s 19ms/step - loss: 6.6626 - root_mean_squared_error: 2.5812 - val_loss: 7.8655 - val_root_mean_squared_error: 2.8046\n",
      "Epoch 28/75\n",
      "243/243 [==============================] - 5s 19ms/step - loss: 6.5947 - root_mean_squared_error: 2.5680 - val_loss: 7.8212 - val_root_mean_squared_error: 2.7966\n",
      "Epoch 29/75\n",
      "243/243 [==============================] - 5s 19ms/step - loss: 6.6441 - root_mean_squared_error: 2.5776 - val_loss: 7.3907 - val_root_mean_squared_error: 2.7186\n",
      "Epoch 30/75\n",
      "243/243 [==============================] - 5s 19ms/step - loss: 6.8607 - root_mean_squared_error: 2.6193 - val_loss: 8.7152 - val_root_mean_squared_error: 2.9522\n",
      "Epoch 31/75\n",
      "243/243 [==============================] - 5s 19ms/step - loss: 6.6782 - root_mean_squared_error: 2.5842 - val_loss: 7.4941 - val_root_mean_squared_error: 2.7375\n",
      "Epoch 32/75\n",
      "243/243 [==============================] - 5s 19ms/step - loss: 6.5116 - root_mean_squared_error: 2.5518 - val_loss: 6.8758 - val_root_mean_squared_error: 2.6222\n",
      "Epoch 33/75\n",
      "243/243 [==============================] - 5s 19ms/step - loss: 6.4476 - root_mean_squared_error: 2.5392 - val_loss: 7.1412 - val_root_mean_squared_error: 2.6723\n",
      "Epoch 34/75\n",
      "243/243 [==============================] - 5s 19ms/step - loss: 6.5435 - root_mean_squared_error: 2.5580 - val_loss: 9.7364 - val_root_mean_squared_error: 3.1203\n",
      "Epoch 35/75\n",
      "243/243 [==============================] - 5s 19ms/step - loss: 6.4808 - root_mean_squared_error: 2.5457 - val_loss: 6.8344 - val_root_mean_squared_error: 2.6143\n",
      "Epoch 36/75\n",
      "243/243 [==============================] - 5s 19ms/step - loss: 6.4226 - root_mean_squared_error: 2.5343 - val_loss: 6.9098 - val_root_mean_squared_error: 2.6286\n",
      "Epoch 37/75\n",
      "243/243 [==============================] - 5s 19ms/step - loss: 6.3722 - root_mean_squared_error: 2.5243 - val_loss: 12.5302 - val_root_mean_squared_error: 3.5398\n",
      "Epoch 38/75\n",
      "243/243 [==============================] - 5s 19ms/step - loss: 6.6527 - root_mean_squared_error: 2.5793 - val_loss: 6.9013 - val_root_mean_squared_error: 2.6270\n",
      "Epoch 39/75\n",
      "243/243 [==============================] - 5s 19ms/step - loss: 6.3827 - root_mean_squared_error: 2.5264 - val_loss: 6.8630 - val_root_mean_squared_error: 2.6197\n",
      "Epoch 40/75\n",
      "243/243 [==============================] - 5s 19ms/step - loss: 6.3624 - root_mean_squared_error: 2.5224 - val_loss: 7.6118 - val_root_mean_squared_error: 2.7589\n",
      "Epoch 41/75\n",
      "243/243 [==============================] - 5s 19ms/step - loss: 6.5543 - root_mean_squared_error: 2.5601 - val_loss: 7.0830 - val_root_mean_squared_error: 2.6614\n",
      "Epoch 42/75\n",
      "243/243 [==============================] - 5s 19ms/step - loss: 6.2606 - root_mean_squared_error: 2.5021 - val_loss: 6.8418 - val_root_mean_squared_error: 2.6157\n",
      "Epoch 43/75\n",
      "243/243 [==============================] - 5s 20ms/step - loss: 6.3892 - root_mean_squared_error: 2.5277 - val_loss: 11.0380 - val_root_mean_squared_error: 3.3224\n",
      "Epoch 44/75\n",
      "243/243 [==============================] - 5s 19ms/step - loss: 6.4675 - root_mean_squared_error: 2.5431 - val_loss: 7.1026 - val_root_mean_squared_error: 2.6651\n",
      "Epoch 45/75\n",
      "243/243 [==============================] - 5s 19ms/step - loss: 6.2344 - root_mean_squared_error: 2.4969 - val_loss: 7.6271 - val_root_mean_squared_error: 2.7617\n",
      "Epoch 46/75\n",
      "243/243 [==============================] - 5s 19ms/step - loss: 6.2823 - root_mean_squared_error: 2.5065 - val_loss: 6.9287 - val_root_mean_squared_error: 2.6322\n",
      "Epoch 47/75\n",
      "243/243 [==============================] - 5s 19ms/step - loss: 6.3203 - root_mean_squared_error: 2.5140 - val_loss: 8.9484 - val_root_mean_squared_error: 2.9914\n",
      "Epoch 48/75\n",
      "243/243 [==============================] - 5s 19ms/step - loss: 6.2873 - root_mean_squared_error: 2.5074 - val_loss: 6.6007 - val_root_mean_squared_error: 2.5692\n",
      "Epoch 49/75\n",
      "243/243 [==============================] - 5s 19ms/step - loss: 6.1382 - root_mean_squared_error: 2.4775 - val_loss: 7.5195 - val_root_mean_squared_error: 2.7422\n",
      "Epoch 50/75\n",
      "243/243 [==============================] - 5s 19ms/step - loss: 6.1455 - root_mean_squared_error: 2.4790 - val_loss: 6.6136 - val_root_mean_squared_error: 2.5717\n",
      "Epoch 51/75\n",
      "243/243 [==============================] - 5s 19ms/step - loss: 6.1203 - root_mean_squared_error: 2.4739 - val_loss: 6.7955 - val_root_mean_squared_error: 2.6068\n",
      "Epoch 52/75\n",
      "243/243 [==============================] - 5s 19ms/step - loss: 6.2446 - root_mean_squared_error: 2.4989 - val_loss: 6.8106 - val_root_mean_squared_error: 2.6097\n",
      "Epoch 53/75\n",
      "243/243 [==============================] - 5s 19ms/step - loss: 6.1838 - root_mean_squared_error: 2.4867 - val_loss: 6.6165 - val_root_mean_squared_error: 2.5723\n",
      "Epoch 54/75\n",
      "243/243 [==============================] - 5s 19ms/step - loss: 6.1001 - root_mean_squared_error: 2.4698 - val_loss: 6.9552 - val_root_mean_squared_error: 2.6373\n",
      "Epoch 55/75\n",
      "243/243 [==============================] - 5s 19ms/step - loss: 6.1001 - root_mean_squared_error: 2.4698 - val_loss: 9.5169 - val_root_mean_squared_error: 3.0849\n",
      "Epoch 56/75\n",
      "243/243 [==============================] - 5s 19ms/step - loss: 6.2258 - root_mean_squared_error: 2.4952 - val_loss: 6.6981 - val_root_mean_squared_error: 2.5881\n",
      "Epoch 57/75\n",
      "243/243 [==============================] - 5s 19ms/step - loss: 6.0091 - root_mean_squared_error: 2.4513 - val_loss: 9.6090 - val_root_mean_squared_error: 3.0998\n",
      "Epoch 58/75\n",
      "243/243 [==============================] - 5s 19ms/step - loss: 6.0826 - root_mean_squared_error: 2.4663 - val_loss: 6.8233 - val_root_mean_squared_error: 2.6121\n",
      "Epoch 59/75\n",
      "243/243 [==============================] - 5s 19ms/step - loss: 5.9665 - root_mean_squared_error: 2.4426 - val_loss: 7.5699 - val_root_mean_squared_error: 2.7513\n",
      "Epoch 60/75\n",
      "243/243 [==============================] - 5s 19ms/step - loss: 6.1967 - root_mean_squared_error: 2.4893 - val_loss: 8.2670 - val_root_mean_squared_error: 2.8752\n",
      "Epoch 61/75\n",
      "243/243 [==============================] - 5s 19ms/step - loss: 6.0098 - root_mean_squared_error: 2.4515 - val_loss: 6.9415 - val_root_mean_squared_error: 2.6347\n",
      "Epoch 62/75\n",
      "243/243 [==============================] - 5s 19ms/step - loss: 5.9493 - root_mean_squared_error: 2.4391 - val_loss: 6.6441 - val_root_mean_squared_error: 2.5776\n",
      "Epoch 63/75\n",
      "243/243 [==============================] - 5s 19ms/step - loss: 5.9698 - root_mean_squared_error: 2.4433 - val_loss: 6.7441 - val_root_mean_squared_error: 2.5969\n",
      "Epoch 64/75\n",
      "243/243 [==============================] - 5s 19ms/step - loss: 5.9805 - root_mean_squared_error: 2.4455 - val_loss: 6.7858 - val_root_mean_squared_error: 2.6050\n",
      "Epoch 65/75\n",
      "243/243 [==============================] - 5s 19ms/step - loss: 6.0095 - root_mean_squared_error: 2.4514 - val_loss: 6.9147 - val_root_mean_squared_error: 2.6296\n",
      "Epoch 66/75\n",
      "243/243 [==============================] - 5s 19ms/step - loss: 6.2247 - root_mean_squared_error: 2.4949 - val_loss: 6.6169 - val_root_mean_squared_error: 2.5723\n",
      "Epoch 67/75\n",
      "243/243 [==============================] - 5s 19ms/step - loss: 5.9821 - root_mean_squared_error: 2.4458 - val_loss: 7.0259 - val_root_mean_squared_error: 2.6506\n",
      "Epoch 68/75\n",
      "243/243 [==============================] - 5s 19ms/step - loss: 5.9720 - root_mean_squared_error: 2.4438 - val_loss: 8.2971 - val_root_mean_squared_error: 2.8805\n",
      "Epoch 69/75\n",
      "243/243 [==============================] - 5s 19ms/step - loss: 5.9399 - root_mean_squared_error: 2.4372 - val_loss: 7.1006 - val_root_mean_squared_error: 2.6647\n",
      "Epoch 70/75\n",
      "243/243 [==============================] - 5s 19ms/step - loss: 5.9047 - root_mean_squared_error: 2.4299 - val_loss: 8.5469 - val_root_mean_squared_error: 2.9235\n",
      "Epoch 71/75\n",
      "243/243 [==============================] - 5s 19ms/step - loss: 6.1483 - root_mean_squared_error: 2.4796 - val_loss: 8.1744 - val_root_mean_squared_error: 2.8591\n",
      "Epoch 72/75\n",
      "243/243 [==============================] - 5s 19ms/step - loss: 6.2185 - root_mean_squared_error: 2.4937 - val_loss: 8.3760 - val_root_mean_squared_error: 2.8941\n",
      "Epoch 73/75\n",
      "243/243 [==============================] - 5s 19ms/step - loss: 5.9253 - root_mean_squared_error: 2.4342 - val_loss: 6.4739 - val_root_mean_squared_error: 2.5444\n",
      "Epoch 74/75\n",
      "243/243 [==============================] - 5s 19ms/step - loss: 5.8135 - root_mean_squared_error: 2.4111 - val_loss: 6.7686 - val_root_mean_squared_error: 2.6017\n",
      "Epoch 75/75\n",
      "243/243 [==============================] - 5s 19ms/step - loss: 5.9616 - root_mean_squared_error: 2.4416 - val_loss: 6.6393 - val_root_mean_squared_error: 2.5767\n"
     ]
    }
   ],
   "source": [
    "history = model.fit(xtrain, ytrain, \n",
    "          batch_size=10000, \n",
    "          epochs=75, \n",
    "          validation_data=(xvalid, yvalid))"
   ]
  },
  {
   "cell_type": "markdown",
   "id": "8ac2ceaf-6880-43d8-923d-e26d67dc7be9",
   "metadata": {},
   "source": [
    "### **Loss**"
   ]
  },
  {
   "cell_type": "code",
   "execution_count": 12,
   "id": "a0640600-f199-4bc6-9ecb-75b7354fc99c",
   "metadata": {},
   "outputs": [
    {
     "data": {
      "text/html": [
       "<div>\n",
       "<style scoped>\n",
       "    .dataframe tbody tr th:only-of-type {\n",
       "        vertical-align: middle;\n",
       "    }\n",
       "\n",
       "    .dataframe tbody tr th {\n",
       "        vertical-align: top;\n",
       "    }\n",
       "\n",
       "    .dataframe thead th {\n",
       "        text-align: right;\n",
       "    }\n",
       "</style>\n",
       "<table border=\"1\" class=\"dataframe\">\n",
       "  <thead>\n",
       "    <tr style=\"text-align: right;\">\n",
       "      <th></th>\n",
       "      <th>loss</th>\n",
       "      <th>root_mean_squared_error</th>\n",
       "      <th>val_loss</th>\n",
       "      <th>val_root_mean_squared_error</th>\n",
       "    </tr>\n",
       "  </thead>\n",
       "  <tbody>\n",
       "    <tr>\n",
       "      <th>70</th>\n",
       "      <td>6.148306</td>\n",
       "      <td>2.479578</td>\n",
       "      <td>8.174443</td>\n",
       "      <td>2.859098</td>\n",
       "    </tr>\n",
       "    <tr>\n",
       "      <th>71</th>\n",
       "      <td>6.218507</td>\n",
       "      <td>2.493693</td>\n",
       "      <td>8.375956</td>\n",
       "      <td>2.894124</td>\n",
       "    </tr>\n",
       "    <tr>\n",
       "      <th>72</th>\n",
       "      <td>5.925297</td>\n",
       "      <td>2.434193</td>\n",
       "      <td>6.473879</td>\n",
       "      <td>2.544382</td>\n",
       "    </tr>\n",
       "    <tr>\n",
       "      <th>73</th>\n",
       "      <td>5.813494</td>\n",
       "      <td>2.411119</td>\n",
       "      <td>6.768629</td>\n",
       "      <td>2.601659</td>\n",
       "    </tr>\n",
       "    <tr>\n",
       "      <th>74</th>\n",
       "      <td>5.961595</td>\n",
       "      <td>2.441638</td>\n",
       "      <td>6.639330</td>\n",
       "      <td>2.576690</td>\n",
       "    </tr>\n",
       "  </tbody>\n",
       "</table>\n",
       "</div>"
      ],
      "text/plain": [
       "        loss  root_mean_squared_error  val_loss  val_root_mean_squared_error\n",
       "70  6.148306                 2.479578  8.174443                     2.859098\n",
       "71  6.218507                 2.493693  8.375956                     2.894124\n",
       "72  5.925297                 2.434193  6.473879                     2.544382\n",
       "73  5.813494                 2.411119  6.768629                     2.601659\n",
       "74  5.961595                 2.441638  6.639330                     2.576690"
      ]
     },
     "execution_count": 12,
     "metadata": {},
     "output_type": "execute_result"
    }
   ],
   "source": [
    "loss = pd.DataFrame(history.history)\n",
    "loss.tail()"
   ]
  },
  {
   "cell_type": "code",
   "execution_count": 17,
   "id": "cf747f8a-55de-4f02-a66e-e02c925f2284",
   "metadata": {},
   "outputs": [
    {
     "data": {
      "image/png": "[encoded data removed]",
      "text/plain": [
       "<Figure size 800x500 with 2 Axes>"
      ]
     },
     "metadata": {},
     "output_type": "display_data"
    }
   ],
   "source": [
    "fig, axes = plt.subplots(nrows=2,figsize=(8,5), dpi=100)\n",
    "sns.lineplot(data=loss.loc[:,[\"loss\",\"val_loss\"]], palette=\"RdPu\",linewidth=1.0, ax=axes[0]);\n",
    "sns.lineplot(data=loss.loc[:,[\"root_mean_squared_error\",\"val_root_mean_squared_error\"]], palette=\"BuGn\",linewidth=1.0, ax=axes[1]);"
   ]
  },
  {
   "cell_type": "markdown",
   "id": "5674e2f8-5c8d-4c2c-8a36-198e856d0e17",
   "metadata": {},
   "source": [
    "### **Prediction**"
   ]
  },
  {
   "cell_type": "code",
   "execution_count": 18,
   "id": "e31590fa-170f-48d9-b401-80d45a21e83c",
   "metadata": {},
   "outputs": [
    {
     "name": "stdout",
     "output_type": "stream",
     "text": [
      "  168/28100 [..............................] - ETA: 25s - loss: 36.3013 - root_mean_squared_error: 6.0251  "
     ]
    },
    {
     "name": "stderr",
     "output_type": "stream",
     "text": [
      "2022-08-21 17:52:43.007907: W tensorflow/core/framework/cpu_allocator_impl.cc:82] Allocation of 190627008 exceeds 10% of free system memory.\n"
     ]
    },
    {
     "name": "stdout",
     "output_type": "stream",
     "text": [
      "28100/28100 [==============================] - 23s 830us/step - loss: 33.0765 - root_mean_squared_error: 5.7512\n"
     ]
    },
    {
     "data": {
      "text/plain": [
       "[33.076515197753906, 5.751218795776367]"
      ]
     },
     "execution_count": 18,
     "metadata": {},
     "output_type": "execute_result"
    }
   ],
   "source": [
    "model.evaluate(test, test_labels)"
   ]
  },
  {
   "cell_type": "code",
   "execution_count": null,
   "id": "2fc40b93-4f47-4ec5-a910-5c218595ba8e",
   "metadata": {},
   "outputs": [],
   "source": []
  }
 ],
 "metadata": {
  "kernelspec": {
   "display_name": "Python 3 (ipykernel)",
   "language": "python",
   "name": "python3"
  },
  "language_info": {
   "codemirror_mode": {
    "name": "ipython",
    "version": 3
   },
   "file_extension": ".py",
   "mimetype": "text/x-python",
   "name": "python",
   "nbconvert_exporter": "python",
   "pygments_lexer": "ipython3",
   "version": "3.9.11"
  }
 },
 "nbformat": 4,
 "nbformat_minor": 5
}
