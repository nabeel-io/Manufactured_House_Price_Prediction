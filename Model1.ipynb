{
 "cells": [
  {
   "cell_type": "code",
   "execution_count": 8,
   "id": "1c74369d-ac1c-42e1-a50f-1b36e700a20f",
   "metadata": {},
   "outputs": [],
   "source": [
    "### **Basic Libraries**"
   ]
  },
  {
   "cell_type": "code",
   "execution_count": 9,
   "id": "b45feb4f-e70c-4f03-ac77-fed94c8c592e",
   "metadata": {},
   "outputs": [],
   "source": [
    "import numpy as np\n",
    "import pandas as pd"
   ]
  },
  {
   "cell_type": "code",
   "execution_count": 28,
   "id": "b90f6160-95f3-4983-a38b-fa4bd7486d64",
   "metadata": {},
   "outputs": [],
   "source": [
    "train = np.load(\"data/train_matrix.npy\")\n",
    "total_amount = np.load(\"data/train_labels.npy\")"
   ]
  },
  {
   "cell_type": "code",
   "execution_count": 11,
   "id": "4b49137c-20fc-47db-862c-8c301a6e2483",
   "metadata": {},
   "outputs": [
    {
     "name": "stdout",
     "output_type": "stream",
     "text": [
      "(2689034, 53)\n",
      "(2689034,)\n"
     ]
    }
   ],
   "source": [
    "print(train.shape)\n",
    "print(total_amount.shape)"
   ]
  },
  {
   "cell_type": "code",
   "execution_count": 12,
   "id": "75cf6da7-ed4e-49c9-bf19-c7f45428199f",
   "metadata": {},
   "outputs": [],
   "source": [
    "test = np.load(\"data/test_matrix.npy\")\n",
    "test_amount = np.load(\"data/test_labels.npy\")"
   ]
  },
  {
   "cell_type": "code",
   "execution_count": 13,
   "id": "2de8d615-f494-490b-b106-221571cef092",
   "metadata": {},
   "outputs": [],
   "source": [
    "### **Split Training Data**"
   ]
  },
  {
   "cell_type": "code",
   "execution_count": 14,
   "id": "cda9342b-559c-4589-89d0-648a85fc90b6",
   "metadata": {},
   "outputs": [],
   "source": [
    "from sklearn.model_selection import train_test_split\n",
    "xtrain, xvalid, ytrain, yvalid = train_test_split(train, total_amount, test_size=0.10, random_state=123 )"
   ]
  },
  {
   "cell_type": "code",
   "execution_count": 16,
   "id": "adefcd27-537c-41f6-b8aa-5c55ff6380ad",
   "metadata": {},
   "outputs": [],
   "source": [
    "### **LightGBM without parameters**"
   ]
  },
  {
   "cell_type": "code",
   "execution_count": 17,
   "id": "232ca84c-8383-48b6-b1fc-18f8706c040c",
   "metadata": {},
   "outputs": [],
   "source": [
    "from lightgbm import LGBMRegressor\n",
    "from sklearn.metrics import mean_squared_error"
   ]
  },
  {
   "cell_type": "code",
   "execution_count": 18,
   "id": "d5db33ff-70d6-48dd-8ba9-63512be06e40",
   "metadata": {},
   "outputs": [
    {
     "data": {
      "text/html": [
       "<style>#sk-container-id-1 {color: black;background-color: white;}#sk-container-id-1 pre{padding: 0;}#sk-container-id-1 div.sk-toggleable {background-color: white;}#sk-container-id-1 label.sk-toggleable__label {cursor: pointer;display: block;width: 100%;margin-bottom: 0;padding: 0.3em;box-sizing: border-box;text-align: center;}#sk-container-id-1 label.sk-toggleable__label-arrow:before {content: \"▸\";float: left;margin-right: 0.25em;color: #696969;}#sk-container-id-1 label.sk-toggleable__label-arrow:hover:before {color: black;}#sk-container-id-1 div.sk-estimator:hover label.sk-toggleable__label-arrow:before {color: black;}#sk-container-id-1 div.sk-toggleable__content {max-height: 0;max-width: 0;overflow: hidden;text-align: left;background-color: #f0f8ff;}#sk-container-id-1 div.sk-toggleable__content pre {margin: 0.2em;color: black;border-radius: 0.25em;background-color: #f0f8ff;}#sk-container-id-1 input.sk-toggleable__control:checked~div.sk-toggleable__content {max-height: 200px;max-width: 100%;overflow: auto;}#sk-container-id-1 input.sk-toggleable__control:checked~label.sk-toggleable__label-arrow:before {content: \"▾\";}#sk-container-id-1 div.sk-estimator input.sk-toggleable__control:checked~label.sk-toggleable__label {background-color: #d4ebff;}#sk-container-id-1 div.sk-label input.sk-toggleable__control:checked~label.sk-toggleable__label {background-color: #d4ebff;}#sk-container-id-1 input.sk-hidden--visually {border: 0;clip: rect(1px 1px 1px 1px);clip: rect(1px, 1px, 1px, 1px);height: 1px;margin: -1px;overflow: hidden;padding: 0;position: absolute;width: 1px;}#sk-container-id-1 div.sk-estimator {font-family: monospace;background-color: #f0f8ff;border: 1px dotted black;border-radius: 0.25em;box-sizing: border-box;margin-bottom: 0.5em;}#sk-container-id-1 div.sk-estimator:hover {background-color: #d4ebff;}#sk-container-id-1 div.sk-parallel-item::after {content: \"\";width: 100%;border-bottom: 1px solid gray;flex-grow: 1;}#sk-container-id-1 div.sk-label:hover label.sk-toggleable__label {background-color: #d4ebff;}#sk-container-id-1 div.sk-serial::before {content: \"\";position: absolute;border-left: 1px solid gray;box-sizing: border-box;top: 0;bottom: 0;left: 50%;z-index: 0;}#sk-container-id-1 div.sk-serial {display: flex;flex-direction: column;align-items: center;background-color: white;padding-right: 0.2em;padding-left: 0.2em;position: relative;}#sk-container-id-1 div.sk-item {position: relative;z-index: 1;}#sk-container-id-1 div.sk-parallel {display: flex;align-items: stretch;justify-content: center;background-color: white;position: relative;}#sk-container-id-1 div.sk-item::before, #sk-container-id-1 div.sk-parallel-item::before {content: \"\";position: absolute;border-left: 1px solid gray;box-sizing: border-box;top: 0;bottom: 0;left: 50%;z-index: -1;}#sk-container-id-1 div.sk-parallel-item {display: flex;flex-direction: column;z-index: 1;position: relative;background-color: white;}#sk-container-id-1 div.sk-parallel-item:first-child::after {align-self: flex-end;width: 50%;}#sk-container-id-1 div.sk-parallel-item:last-child::after {align-self: flex-start;width: 50%;}#sk-container-id-1 div.sk-parallel-item:only-child::after {width: 0;}#sk-container-id-1 div.sk-dashed-wrapped {border: 1px dashed gray;margin: 0 0.4em 0.5em 0.4em;box-sizing: border-box;padding-bottom: 0.4em;background-color: white;}#sk-container-id-1 div.sk-label label {font-family: monospace;font-weight: bold;display: inline-block;line-height: 1.2em;}#sk-container-id-1 div.sk-label-container {text-align: center;}#sk-container-id-1 div.sk-container {/* jupyter's `normalize.less` sets `[hidden] { display: none; }` but bootstrap.min.css set `[hidden] { display: none !important; }` so we also need the `!important` here to be able to override the default hidden behavior on the sphinx rendered scikit-learn.org. See: https://github.com/scikit-learn/scikit-learn/issues/21755 */display: inline-block !important;position: relative;}#sk-container-id-1 div.sk-text-repr-fallback {display: none;}</style><div id=\"sk-container-id-1\" class=\"sk-top-container\"><div class=\"sk-text-repr-fallback\"><pre>LGBMRegressor()</pre><b>In a Jupyter environment, please rerun this cell to show the HTML representation or trust the notebook. <br />On GitHub, the HTML representation is unable to render, please try loading this page with nbviewer.org.</b></div><div class=\"sk-container\" hidden><div class=\"sk-item\"><div class=\"sk-estimator sk-toggleable\"><input class=\"sk-toggleable__control sk-hidden--visually\" id=\"sk-estimator-id-1\" type=\"checkbox\" checked><label for=\"sk-estimator-id-1\" class=\"sk-toggleable__label sk-toggleable__label-arrow\">LGBMRegressor</label><div class=\"sk-toggleable__content\"><pre>LGBMRegressor()</pre></div></div></div></div></div>"
      ],
      "text/plain": [
       "LGBMRegressor()"
      ]
     },
     "execution_count": 18,
     "metadata": {},
     "output_type": "execute_result"
    }
   ],
   "source": [
    "from lightgbm import LGBMRegressor\n",
    "from sklearn.metrics import mean_squared_error\n",
    "reg = LGBMRegressor()\n",
    "reg.fit(xtrain, ytrain)"
   ]
  },
  {
   "cell_type": "code",
   "execution_count": 19,
   "id": "b8726356-91c2-4f37-bfd3-ec969783ea3b",
   "metadata": {
    "tags": []
   },
   "outputs": [
    {
     "name": "stdout",
     "output_type": "stream",
     "text": [
      "2.694677568159574\n"
     ]
    }
   ],
   "source": [
    "pred = reg.predict(xvalid)\n",
    "mse = mean_squared_error(yvalid, pred)\n",
    "rmse = np.sqrt(mse)\n",
    "print(rmse)"
   ]
  },
  {
   "cell_type": "code",
   "execution_count": 20,
   "id": "00920cc4-dc62-4aaf-a07b-e3ba5bd53c96",
   "metadata": {},
   "outputs": [
    {
     "name": "stdout",
     "output_type": "stream",
     "text": [
      "5.424498820992102\n"
     ]
    }
   ],
   "source": [
    "pred = reg.predict(test)\n",
    "mse = mean_squared_error(test_amount, pred)\n",
    "rmse = np.sqrt(mse)\n",
    "print(rmse)"
   ]
  },
  {
   "cell_type": "code",
   "execution_count": 21,
   "id": "55aa7ccf-3779-45d5-970b-a31c64b5ffd6",
   "metadata": {},
   "outputs": [],
   "source": [
    "### **Parameter optimisation using Optuna**"
   ]
  },
  {
   "cell_type": "code",
   "execution_count": 22,
   "id": "334e7bcb-0325-4e2e-b8fe-cfb088cd7cae",
   "metadata": {},
   "outputs": [],
   "source": [
    "def optimize(trial):\n",
    "    params = {\n",
    "        \"max_depth\": trial.suggest_int(\"max_depth\", 5, 15),\n",
    "        \"min_child_samples\": trial.suggest_int(\"min_child_samples\", 40, 400),\n",
    "        \"subsample\": trial.suggest_float(\"subsample\", 0.5, 1.0),\n",
    "        \"learning_rate\": trial.suggest_float(\"learning_rate\", 0.01, 10.0),\n",
    "        \"n_jobs\": -1\n",
    "    }\n",
    "    reg = LGBMRegressor(**params)\n",
    "    reg.fit(xtrain, ytrain) \n",
    "    pred = reg.predict(xvalid)\n",
    "    mse = mean_squared_error(yvalid, pred)\n",
    "    rmse = np.sqrt(mse)\n",
    "    return rmse"
   ]
  },
  {
   "cell_type": "code",
   "execution_count": 23,
   "id": "3aec5989-249c-4c0c-a024-ec9edb7a5671",
   "metadata": {},
   "outputs": [
    {
     "name": "stderr",
     "output_type": "stream",
     "text": [
      "\u001b[32m[I 2022-08-16 18:58:06,515]\u001b[0m A new study created in memory with name: no-name-3ed28db9-7b6c-4a46-84a0-ee1552a624f2\u001b[0m\n",
      "\u001b[32m[I 2022-08-16 18:58:17,308]\u001b[0m Trial 0 finished with value: 1.4653935140231755e+38 and parameters: {'max_depth': 5, 'min_child_samples': 322, 'subsample': 0.6371820508028108, 'learning_rate': 4.267468357158954}. Best is trial 0 with value: 1.4653935140231755e+38.\u001b[0m\n",
      "\u001b[32m[I 2022-08-16 18:58:32,009]\u001b[0m Trial 1 finished with value: 1454105192172.6335 and parameters: {'max_depth': 14, 'min_child_samples': 54, 'subsample': 0.6536379396771976, 'learning_rate': 2.288808121127226}. Best is trial 1 with value: 1454105192172.6335.\u001b[0m\n",
      "\u001b[32m[I 2022-08-16 18:58:45,582]\u001b[0m Trial 2 finished with value: 5.939386487354532e+17 and parameters: {'max_depth': 12, 'min_child_samples': 232, 'subsample': 0.8585631595099117, 'learning_rate': 2.4665604516647144}. Best is trial 1 with value: 1454105192172.6335.\u001b[0m\n",
      "\u001b[32m[I 2022-08-16 18:58:54,631]\u001b[0m Trial 3 finished with value: 1.2536483643431562e+38 and parameters: {'max_depth': 6, 'min_child_samples': 357, 'subsample': 0.5652515241764362, 'learning_rate': 5.034705128389013}. Best is trial 1 with value: 1454105192172.6335.\u001b[0m\n",
      "\u001b[32m[I 2022-08-16 18:59:03,301]\u001b[0m Trial 4 finished with value: 2.6379404548295815 and parameters: {'max_depth': 10, 'min_child_samples': 391, 'subsample': 0.8551179811181643, 'learning_rate': 0.9804680591342305}. Best is trial 4 with value: 2.6379404548295815.\u001b[0m\n",
      "\u001b[32m[I 2022-08-16 18:59:11,859]\u001b[0m Trial 5 finished with value: 3.737549523303153e+38 and parameters: {'max_depth': 15, 'min_child_samples': 371, 'subsample': 0.5497646804255965, 'learning_rate': 9.182760316938966}. Best is trial 4 with value: 2.6379404548295815.\u001b[0m\n",
      "\u001b[32m[I 2022-08-16 18:59:26,069]\u001b[0m Trial 6 finished with value: 3.5988670049324825e+33 and parameters: {'max_depth': 9, 'min_child_samples': 312, 'subsample': 0.8490459321628387, 'learning_rate': 3.1092327979368997}. Best is trial 4 with value: 2.6379404548295815.\u001b[0m\n",
      "\u001b[32m[I 2022-08-16 18:59:39,460]\u001b[0m Trial 7 finished with value: 9.122058240340574e+37 and parameters: {'max_depth': 14, 'min_child_samples': 142, 'subsample': 0.7393466180892192, 'learning_rate': 3.5129169375870086}. Best is trial 4 with value: 2.6379404548295815.\u001b[0m\n",
      "\u001b[32m[I 2022-08-16 18:59:48,156]\u001b[0m Trial 8 finished with value: 3.028452910610263e+38 and parameters: {'max_depth': 10, 'min_child_samples': 186, 'subsample': 0.8802430713075915, 'learning_rate': 8.38438889311074}. Best is trial 4 with value: 2.6379404548295815.\u001b[0m\n",
      "\u001b[32m[I 2022-08-16 18:59:57,191]\u001b[0m Trial 9 finished with value: 2.681919321998718 and parameters: {'max_depth': 5, 'min_child_samples': 137, 'subsample': 0.9618385875310882, 'learning_rate': 0.9657170809724415}. Best is trial 4 with value: 2.6379404548295815.\u001b[0m\n",
      "\u001b[32m[I 2022-08-16 19:00:06,544]\u001b[0m Trial 10 finished with value: 2.624122412451677 and parameters: {'max_depth': 9, 'min_child_samples': 264, 'subsample': 0.9967286002452445, 'learning_rate': 0.24143785453810107}. Best is trial 10 with value: 2.624122412451677.\u001b[0m\n",
      "\u001b[32m[I 2022-08-16 19:00:17,141]\u001b[0m Trial 11 finished with value: 2.697197513326591 and parameters: {'max_depth': 8, 'min_child_samples': 272, 'subsample': 0.9649112898542522, 'learning_rate': 0.11123769164336297}. Best is trial 10 with value: 2.624122412451677.\u001b[0m\n",
      "\u001b[32m[I 2022-08-16 19:00:26,962]\u001b[0m Trial 12 finished with value: 1.984142251922938e+38 and parameters: {'max_depth': 11, 'min_child_samples': 397, 'subsample': 0.7736537023748336, 'learning_rate': 6.182002113110399}. Best is trial 10 with value: 2.624122412451677.\u001b[0m\n",
      "\u001b[32m[I 2022-08-16 19:00:35,441]\u001b[0m Trial 13 finished with value: 2.693738604599553 and parameters: {'max_depth': 8, 'min_child_samples': 261, 'subsample': 0.9998391027489604, 'learning_rate': 1.1241678356162863}. Best is trial 10 with value: 2.624122412451677.\u001b[0m\n",
      "\u001b[32m[I 2022-08-16 19:00:46,861]\u001b[0m Trial 14 finished with value: 2.7431187564170223 and parameters: {'max_depth': 12, 'min_child_samples': 317, 'subsample': 0.8915260676827599, 'learning_rate': 0.07357317694157572}. Best is trial 10 with value: 2.624122412451677.\u001b[0m\n",
      "\u001b[32m[I 2022-08-16 19:00:56,202]\u001b[0m Trial 15 finished with value: 2.0178331238885706e+38 and parameters: {'max_depth': 7, 'min_child_samples': 193, 'subsample': 0.7854953120743383, 'learning_rate': 6.353659307479791}. Best is trial 10 with value: 2.624122412451677.\u001b[0m\n",
      "\u001b[32m[I 2022-08-16 19:01:04,978]\u001b[0m Trial 16 finished with value: 2.7958362740148797 and parameters: {'max_depth': 10, 'min_child_samples': 62, 'subsample': 0.9268988560309847, 'learning_rate': 1.2842902339775542}. Best is trial 10 with value: 2.624122412451677.\u001b[0m\n",
      "\u001b[32m[I 2022-08-16 19:01:14,810]\u001b[0m Trial 17 finished with value: 3.007223037568863 and parameters: {'max_depth': 12, 'min_child_samples': 295, 'subsample': 0.8282771169795674, 'learning_rate': 1.7337936618409315}. Best is trial 10 with value: 2.624122412451677.\u001b[0m\n",
      "\u001b[32m[I 2022-08-16 19:01:26,596]\u001b[0m Trial 18 finished with value: 2.755814567893557 and parameters: {'max_depth': 9, 'min_child_samples': 353, 'subsample': 0.7022994873467727, 'learning_rate': 0.0709642190379706}. Best is trial 10 with value: 2.624122412451677.\u001b[0m\n",
      "\u001b[32m[I 2022-08-16 19:01:36,948]\u001b[0m Trial 19 finished with value: 3.659146057570583e+38 and parameters: {'max_depth': 11, 'min_child_samples': 235, 'subsample': 0.9230273997805409, 'learning_rate': 5.30756506318332}. Best is trial 10 with value: 2.624122412451677.\u001b[0m\n",
      "\u001b[32m[I 2022-08-16 19:01:45,855]\u001b[0m Trial 20 finished with value: 1.8749144181379634e+38 and parameters: {'max_depth': 7, 'min_child_samples': 135, 'subsample': 0.8059220379512821, 'learning_rate': 7.414434552451587}. Best is trial 10 with value: 2.624122412451677.\u001b[0m\n",
      "\u001b[32m[I 2022-08-16 19:01:55,010]\u001b[0m Trial 21 finished with value: 2.7163586144151335 and parameters: {'max_depth': 6, 'min_child_samples': 102, 'subsample': 0.9937196459469136, 'learning_rate': 1.110390667277022}. Best is trial 10 with value: 2.624122412451677.\u001b[0m\n",
      "\u001b[32m[I 2022-08-16 19:02:04,054]\u001b[0m Trial 22 finished with value: 2.6698618962445253 and parameters: {'max_depth': 5, 'min_child_samples': 179, 'subsample': 0.9346815249582375, 'learning_rate': 0.8102815000287849}. Best is trial 10 with value: 2.624122412451677.\u001b[0m\n",
      "\u001b[32m[I 2022-08-16 19:02:18,275]\u001b[0m Trial 23 finished with value: 192070511530153.3 and parameters: {'max_depth': 9, 'min_child_samples': 200, 'subsample': 0.9193600290877962, 'learning_rate': 2.35330913049882}. Best is trial 10 with value: 2.624122412451677.\u001b[0m\n",
      "\u001b[32m[I 2022-08-16 19:02:31,129]\u001b[0m Trial 24 finished with value: 1.1456594354420951e+38 and parameters: {'max_depth': 7, 'min_child_samples': 156, 'subsample': 0.9481588005452547, 'learning_rate': 3.6868802106828507}. Best is trial 10 with value: 2.624122412451677.\u001b[0m\n",
      "\u001b[32m[I 2022-08-16 19:02:39,503]\u001b[0m Trial 25 finished with value: 2.59670425171912 and parameters: {'max_depth': 11, 'min_child_samples': 273, 'subsample': 0.8965435084393759, 'learning_rate': 0.6158011880813707}. Best is trial 25 with value: 2.59670425171912.\u001b[0m\n",
      "\u001b[32m[I 2022-08-16 19:02:50,199]\u001b[0m Trial 26 finished with value: 3.082592993570551 and parameters: {'max_depth': 11, 'min_child_samples': 262, 'subsample': 0.8801011139118975, 'learning_rate': 1.842343134523739}. Best is trial 25 with value: 2.59670425171912.\u001b[0m\n",
      "\u001b[32m[I 2022-08-16 19:03:04,587]\u001b[0m Trial 27 finished with value: 2.073691671551648e+31 and parameters: {'max_depth': 10, 'min_child_samples': 388, 'subsample': 0.8196878461806636, 'learning_rate': 3.0032272168824}. Best is trial 25 with value: 2.59670425171912.\u001b[0m\n",
      "\u001b[32m[I 2022-08-16 19:03:13,202]\u001b[0m Trial 28 finished with value: 2.5818182779416197 and parameters: {'max_depth': 13, 'min_child_samples': 341, 'subsample': 0.8975525376450355, 'learning_rate': 0.5532018055107654}. Best is trial 28 with value: 2.5818182779416197.\u001b[0m\n",
      "\u001b[32m[I 2022-08-16 19:03:24,603]\u001b[0m Trial 29 finished with value: 1.404638256609471e+38 and parameters: {'max_depth': 13, 'min_child_samples': 335, 'subsample': 0.7324315298209381, 'learning_rate': 4.437857130997152}. Best is trial 28 with value: 2.5818182779416197.\u001b[0m\n",
      "\u001b[32m[I 2022-08-16 19:03:32,998]\u001b[0m Trial 30 finished with value: 2.5946655805452608 and parameters: {'max_depth': 13, 'min_child_samples': 289, 'subsample': 0.9794522731202052, 'learning_rate': 0.5895931075156404}. Best is trial 28 with value: 2.5818182779416197.\u001b[0m\n",
      "\u001b[32m[I 2022-08-16 19:03:42,743]\u001b[0m Trial 31 finished with value: 2.969374187379851 and parameters: {'max_depth': 13, 'min_child_samples': 286, 'subsample': 0.9752544890602916, 'learning_rate': 1.7435394232206787}. Best is trial 28 with value: 2.5818182779416197.\u001b[0m\n",
      "\u001b[32m[I 2022-08-16 19:03:51,649]\u001b[0m Trial 32 finished with value: 2.585199306522637 and parameters: {'max_depth': 13, 'min_child_samples': 250, 'subsample': 0.9040675385743797, 'learning_rate': 0.4987659796138071}. Best is trial 28 with value: 2.5818182779416197.\u001b[0m\n",
      "\u001b[32m[I 2022-08-16 19:04:00,122]\u001b[0m Trial 33 finished with value: 2.5971157106887657 and parameters: {'max_depth': 14, 'min_child_samples': 236, 'subsample': 0.9028824230143275, 'learning_rate': 0.6541536712984197}. Best is trial 28 with value: 2.5818182779416197.\u001b[0m\n",
      "\u001b[32m[I 2022-08-16 19:04:12,243]\u001b[0m Trial 34 finished with value: 3.196871504770747 and parameters: {'max_depth': 13, 'min_child_samples': 298, 'subsample': 0.6474662738185994, 'learning_rate': 1.8842072666576721}. Best is trial 28 with value: 2.5818182779416197.\u001b[0m\n",
      "\u001b[32m[I 2022-08-16 19:04:26,845]\u001b[0m Trial 35 finished with value: 4465057276866.022 and parameters: {'max_depth': 15, 'min_child_samples': 338, 'subsample': 0.6089762479089309, 'learning_rate': 2.303348628060725}. Best is trial 28 with value: 2.5818182779416197.\u001b[0m\n",
      "\u001b[32m[I 2022-08-16 19:04:42,018]\u001b[0m Trial 36 finished with value: 1.498907315503826e+27 and parameters: {'max_depth': 14, 'min_child_samples': 221, 'subsample': 0.8581785254449684, 'learning_rate': 2.821043975160722}. Best is trial 28 with value: 2.5818182779416197.\u001b[0m\n",
      "\u001b[32m[I 2022-08-16 19:04:50,753]\u001b[0m Trial 37 finished with value: 2.589123374144195 and parameters: {'max_depth': 12, 'min_child_samples': 251, 'subsample': 0.5196227651628821, 'learning_rate': 0.4621569957136496}. Best is trial 28 with value: 2.5818182779416197.\u001b[0m\n",
      "\u001b[32m[I 2022-08-16 19:04:59,795]\u001b[0m Trial 38 finished with value: 2.879348021145035 and parameters: {'max_depth': 13, 'min_child_samples': 247, 'subsample': 0.5816023813176151, 'learning_rate': 1.5305871786346248}. Best is trial 28 with value: 2.5818182779416197.\u001b[0m\n",
      "\u001b[32m[I 2022-08-16 19:05:08,157]\u001b[0m Trial 39 finished with value: 2.5786801177614485 and parameters: {'max_depth': 12, 'min_child_samples': 212, 'subsample': 0.5161169199591734, 'learning_rate': 0.6346044347413186}. Best is trial 39 with value: 2.5786801177614485.\u001b[0m\n",
      "\u001b[32m[I 2022-08-16 19:05:16,583]\u001b[0m Trial 40 finished with value: 1.5251322602897564e+38 and parameters: {'max_depth': 12, 'min_child_samples': 217, 'subsample': 0.5110940078473762, 'learning_rate': 9.907046031665404}. Best is trial 39 with value: 2.5786801177614485.\u001b[0m\n",
      "\u001b[32m[I 2022-08-16 19:05:25,199]\u001b[0m Trial 41 finished with value: 2.584083395218326 and parameters: {'max_depth': 15, 'min_child_samples': 207, 'subsample': 0.5021622755649933, 'learning_rate': 0.5295980117259402}. Best is trial 39 with value: 2.5786801177614485.\u001b[0m\n",
      "\u001b[32m[I 2022-08-16 19:05:33,766]\u001b[0m Trial 42 finished with value: 2.573480685536321 and parameters: {'max_depth': 15, 'min_child_samples': 166, 'subsample': 0.5058334677659175, 'learning_rate': 0.5042800488713209}. Best is trial 42 with value: 2.573480685536321.\u001b[0m\n",
      "\u001b[32m[I 2022-08-16 19:05:42,215]\u001b[0m Trial 43 finished with value: 2.674350079796165 and parameters: {'max_depth': 15, 'min_child_samples': 176, 'subsample': 0.5416887900928018, 'learning_rate': 1.018751778704364}. Best is trial 42 with value: 2.573480685536321.\u001b[0m\n",
      "\u001b[32m[I 2022-08-16 19:05:50,716]\u001b[0m Trial 44 finished with value: 2.746105741619217 and parameters: {'max_depth': 15, 'min_child_samples': 160, 'subsample': 0.5879624416060094, 'learning_rate': 1.2490148676981088}. Best is trial 42 with value: 2.573480685536321.\u001b[0m\n",
      "\u001b[32m[I 2022-08-16 19:06:05,144]\u001b[0m Trial 45 finished with value: 3.123765337409005e+22 and parameters: {'max_depth': 14, 'min_child_samples': 117, 'subsample': 0.5345490122394617, 'learning_rate': 2.634968986955617}. Best is trial 42 with value: 2.573480685536321.\u001b[0m\n",
      "\u001b[32m[I 2022-08-16 19:06:18,424]\u001b[0m Trial 46 finished with value: 3.862384183539802 and parameters: {'max_depth': 15, 'min_child_samples': 210, 'subsample': 0.6928945814884515, 'learning_rate': 0.018308986476061995}. Best is trial 42 with value: 2.573480685536321.\u001b[0m\n",
      "\u001b[32m[I 2022-08-16 19:06:27,248]\u001b[0m Trial 47 finished with value: 2.8292917378079556 and parameters: {'max_depth': 14, 'min_child_samples': 168, 'subsample': 0.5026444175152018, 'learning_rate': 1.4352101151648757}. Best is trial 42 with value: 2.573480685536321.\u001b[0m\n",
      "\u001b[32m[I 2022-08-16 19:06:42,297]\u001b[0m Trial 48 finished with value: 1504.421283947425 and parameters: {'max_depth': 14, 'min_child_samples': 201, 'subsample': 0.6210794379966995, 'learning_rate': 2.047937806501572}. Best is trial 42 with value: 2.573480685536321.\u001b[0m\n",
      "\u001b[32m[I 2022-08-16 19:06:51,145]\u001b[0m Trial 49 finished with value: 2.571714319332366 and parameters: {'max_depth': 14, 'min_child_samples': 107, 'subsample': 0.5517040935441687, 'learning_rate': 0.4892893179784382}. Best is trial 49 with value: 2.571714319332366.\u001b[0m\n"
     ]
    }
   ],
   "source": [
    "import optuna\n",
    "study = optuna.create_study(direction=\"minimize\")\n",
    "study.optimize(optimize, n_trials=50)"
   ]
  },
  {
   "cell_type": "code",
   "execution_count": 24,
   "id": "9e2cf363-2f42-4800-9707-546744ca773f",
   "metadata": {},
   "outputs": [],
   "source": [
    "del xtrain, xvalid, ytrain, yvalid"
   ]
  },
  {
   "cell_type": "code",
   "execution_count": 25,
   "id": "8091dafc-b241-4a02-a0ee-17a54c34aab4",
   "metadata": {},
   "outputs": [],
   "source": [
    "### **Final Modal**"
   ]
  },
  {
   "cell_type": "code",
   "execution_count": 29,
   "id": "dc9f59ed-a189-4950-9286-51cbdfc7b15e",
   "metadata": {},
   "outputs": [
    {
     "name": "stdout",
     "output_type": "stream",
     "text": [
      "5.3655729742342535\n"
     ]
    }
   ],
   "source": [
    "reg = LGBMRegressor(max_depth=12, min_child_samples=12, subsample=0.5, learning_rate=0.5, n_jobs=-1)\n",
    "reg.fit(train, total_amount)\n",
    "pred = reg.predict(test)\n",
    "mse = mean_squared_error(test_amount, pred)\n",
    "rmse = np.sqrt(mse)\n",
    "print(rmse)"
   ]
  },
  {
   "cell_type": "code",
   "execution_count": null,
   "id": "27c5bad6-ea43-46f3-b55c-e41a7c056f73",
   "metadata": {},
   "outputs": [],
   "source": [
    "### **Save Model**"
   ]
  },
  {
   "cell_type": "code",
   "execution_count": null,
   "id": "14309b54-ece9-4461-959a-3640d797a639",
   "metadata": {},
   "outputs": [],
   "source": [
    "### **Predictions**"
   ]
  },
  {
   "cell_type": "code",
   "execution_count": null,
   "id": "fde30f55-4950-4b63-bd04-0370cd71d508",
   "metadata": {},
   "outputs": [],
   "source": [
    "pred = reg.predict(test)\n",
    "mse = mean_squared_error(test_amount, pred)\n",
    "rmse = np.sqrt(mse)\n",
    "print(rmse)"
   ]
  },
  {
   "cell_type": "code",
   "execution_count": 33,
   "id": "d183dda0-d2e2-4e86-85d3-61b323768193",
   "metadata": {},
   "outputs": [
    {
     "data": {
      "text/plain": [
       "0.9553903345724907"
      ]
     },
     "execution_count": 33,
     "metadata": {},
     "output_type": "execute_result"
    }
   ],
   "source": [
    "2.57/2.69"
   ]
  },
  {
   "cell_type": "code",
   "execution_count": 34,
   "id": "e85c33d6-138f-46cc-999a-ab6ed5a21f93",
   "metadata": {},
   "outputs": [
    {
     "data": {
      "text/plain": [
       "0.988929889298893"
      ]
     },
     "execution_count": 34,
     "metadata": {},
     "output_type": "execute_result"
    }
   ],
   "source": [
    "5.36/5.42"
   ]
  },
  {
   "cell_type": "code",
   "execution_count": 35,
   "id": "8a7d64f5-747a-46e8-abf8-41bab6fb1722",
   "metadata": {},
   "outputs": [
    {
     "name": "stdout",
     "output_type": "stream",
     "text": [
      "[38.35 19.24 39.3  19.8  12.43 51.54 12.3  12.85 14.76 17.16 15.96 13.56\n",
      " 22.3  45.65 16.8  18.3  16.56 12.36 16.38 10.3 ]\n",
      "[38.18757043 17.74369212 42.22670592 21.66078636 12.65424084 52.30006214\n",
      " 11.97186719 11.70528872 14.26221954 16.83989133 15.49606916 13.39244145\n",
      " 28.05898526 46.7507621  33.32419388 18.22802055 15.17275875 12.2041193\n",
      " 17.92550622 10.72688762]\n"
     ]
    }
   ],
   "source": [
    "print(test_amount[1000:1020])      \n",
    "print(pred[1000:1020])      "
   ]
  },
  {
   "cell_type": "code",
   "execution_count": null,
   "id": "13e8082d-a99b-4f86-b127-036abefec1a4",
   "metadata": {},
   "outputs": [],
   "source": []
  }
 ],
 "metadata": {
  "kernelspec": {
   "display_name": "Python 3 (ipykernel)",
   "language": "python",
   "name": "python3"
  },
  "language_info": {
   "codemirror_mode": {
    "name": "ipython",
    "version": 3
   },
   "file_extension": ".py",
   "mimetype": "text/x-python",
   "name": "python",
   "nbconvert_exporter": "python",
   "pygments_lexer": "ipython3",
   "version": "3.9.11"
  }
 },
 "nbformat": 4,
 "nbformat_minor": 5
}
