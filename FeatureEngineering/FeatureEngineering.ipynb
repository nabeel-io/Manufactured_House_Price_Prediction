{
 "cells": [
  {
   "cell_type": "markdown",
   "id": "323dce08-b6b9-480e-aefc-70f05c5f0882",
   "metadata": {},
   "source": [
    "## **Feature Engineering**"
   ]
  },
  {
   "cell_type": "code",
   "execution_count": 2,
   "id": "9bfb2e5e-9700-4194-8ff0-97bc3a2053b2",
   "metadata": {},
   "outputs": [],
   "source": [
    "import numpy as np\n",
    "import pandas as pd\n",
    "import matplotlib.pyplot as plt\n",
    "import seaborn as sns"
   ]
  },
  {
   "cell_type": "markdown",
   "id": "01e03373-52b3-4a33-8ab1-bd322276ec7e",
   "metadata": {
    "tags": []
   },
   "source": [
    "### **About Data**"
   ]
  },
  {
   "cell_type": "code",
   "execution_count": 3,
   "id": "65da457f-d616-47cb-bdd7-b5d993002b7c",
   "metadata": {},
   "outputs": [
    {
     "data": {
      "text/html": [
       "<div>\n",
       "<style scoped>\n",
       "    .dataframe tbody tr th:only-of-type {\n",
       "        vertical-align: middle;\n",
       "    }\n",
       "\n",
       "    .dataframe tbody tr th {\n",
       "        vertical-align: top;\n",
       "    }\n",
       "\n",
       "    .dataframe thead th {\n",
       "        text-align: right;\n",
       "    }\n",
       "</style>\n",
       "<table border=\"1\" class=\"dataframe\">\n",
       "  <thead>\n",
       "    <tr style=\"text-align: right;\">\n",
       "      <th></th>\n",
       "      <th>VendorID</th>\n",
       "      <th>tpep_pickup_datetime</th>\n",
       "      <th>tpep_dropoff_datetime</th>\n",
       "      <th>passenger_count</th>\n",
       "      <th>trip_distance</th>\n",
       "      <th>RatecodeID</th>\n",
       "      <th>PULocationID</th>\n",
       "      <th>DOLocationID</th>\n",
       "      <th>payment_type</th>\n",
       "      <th>fare_amount</th>\n",
       "      <th>total_amount</th>\n",
       "    </tr>\n",
       "  </thead>\n",
       "  <tbody>\n",
       "    <tr>\n",
       "      <th>2707852</th>\n",
       "      <td>2</td>\n",
       "      <td>2022-03-24 21:47:05</td>\n",
       "      <td>2022-03-24 21:55:22</td>\n",
       "      <td>1</td>\n",
       "      <td>1.85</td>\n",
       "      <td>1</td>\n",
       "      <td>141</td>\n",
       "      <td>137</td>\n",
       "      <td>1</td>\n",
       "      <td>8.0</td>\n",
       "      <td>11.80</td>\n",
       "    </tr>\n",
       "    <tr>\n",
       "      <th>2707853</th>\n",
       "      <td>1</td>\n",
       "      <td>2022-03-14 10:36:01</td>\n",
       "      <td>2022-03-14 10:45:09</td>\n",
       "      <td>1</td>\n",
       "      <td>1.40</td>\n",
       "      <td>1</td>\n",
       "      <td>137</td>\n",
       "      <td>237</td>\n",
       "      <td>1</td>\n",
       "      <td>8.0</td>\n",
       "      <td>13.55</td>\n",
       "    </tr>\n",
       "    <tr>\n",
       "      <th>2707854</th>\n",
       "      <td>2</td>\n",
       "      <td>2022-03-18 09:19:17</td>\n",
       "      <td>2022-03-18 09:28:55</td>\n",
       "      <td>1</td>\n",
       "      <td>1.92</td>\n",
       "      <td>1</td>\n",
       "      <td>79</td>\n",
       "      <td>186</td>\n",
       "      <td>1</td>\n",
       "      <td>8.5</td>\n",
       "      <td>14.16</td>\n",
       "    </tr>\n",
       "    <tr>\n",
       "      <th>2707855</th>\n",
       "      <td>2</td>\n",
       "      <td>2022-03-30 11:30:47</td>\n",
       "      <td>2022-03-30 11:46:04</td>\n",
       "      <td>1</td>\n",
       "      <td>1.64</td>\n",
       "      <td>1</td>\n",
       "      <td>233</td>\n",
       "      <td>68</td>\n",
       "      <td>2</td>\n",
       "      <td>10.5</td>\n",
       "      <td>13.80</td>\n",
       "    </tr>\n",
       "    <tr>\n",
       "      <th>2707856</th>\n",
       "      <td>2</td>\n",
       "      <td>2022-03-09 14:56:36</td>\n",
       "      <td>2022-03-09 15:39:52</td>\n",
       "      <td>1</td>\n",
       "      <td>4.28</td>\n",
       "      <td>1</td>\n",
       "      <td>90</td>\n",
       "      <td>236</td>\n",
       "      <td>2</td>\n",
       "      <td>26.0</td>\n",
       "      <td>29.30</td>\n",
       "    </tr>\n",
       "  </tbody>\n",
       "</table>\n",
       "</div>"
      ],
      "text/plain": [
       "         VendorID tpep_pickup_datetime tpep_dropoff_datetime  passenger_count  \\\n",
       "2707852         2  2022-03-24 21:47:05   2022-03-24 21:55:22                1   \n",
       "2707853         1  2022-03-14 10:36:01   2022-03-14 10:45:09                1   \n",
       "2707854         2  2022-03-18 09:19:17   2022-03-18 09:28:55                1   \n",
       "2707855         2  2022-03-30 11:30:47   2022-03-30 11:46:04                1   \n",
       "2707856         2  2022-03-09 14:56:36   2022-03-09 15:39:52                1   \n",
       "\n",
       "         trip_distance  RatecodeID  PULocationID  DOLocationID  payment_type  \\\n",
       "2707852           1.85           1           141           137             1   \n",
       "2707853           1.40           1           137           237             1   \n",
       "2707854           1.92           1            79           186             1   \n",
       "2707855           1.64           1           233            68             2   \n",
       "2707856           4.28           1            90           236             2   \n",
       "\n",
       "         fare_amount  total_amount  \n",
       "2707852          8.0         11.80  \n",
       "2707853          8.0         13.55  \n",
       "2707854          8.5         14.16  \n",
       "2707855         10.5         13.80  \n",
       "2707856         26.0         29.30  "
      ]
     },
     "execution_count": 3,
     "metadata": {},
     "output_type": "execute_result"
    }
   ],
   "source": [
    "nyc_taxi = pd.read_pickle(\"data/train.pickle\")\n",
    "nyc_taxi.tail()"
   ]
  },
  {
   "cell_type": "markdown",
   "id": "d01ddc09-99a4-4552-83f5-390946c568da",
   "metadata": {},
   "source": [
    "*Extract day in week from `tpep_pickup_datetime`*"
   ]
  },
  {
   "cell_type": "code",
   "execution_count": 4,
   "id": "4d0c6d13-2db9-419b-a81f-978ab195e795",
   "metadata": {},
   "outputs": [],
   "source": [
    "nyc_taxi[\"day_of_week\"] = nyc_taxi[\"tpep_pickup_datetime\"].dt.dayofweek"
   ]
  },
  {
   "cell_type": "markdown",
   "id": "e5354d96-ac85-4ba2-9478-e80148910b86",
   "metadata": {},
   "source": [
    "*Calculating time `interval` from pickup to dropoff*"
   ]
  },
  {
   "cell_type": "code",
   "execution_count": 5,
   "id": "4206afda-0bb0-40f6-8133-30d5d3cb13b8",
   "metadata": {},
   "outputs": [],
   "source": [
    "diff = nyc_taxi[\"tpep_dropoff_datetime\"] - nyc_taxi[\"tpep_pickup_datetime\"]"
   ]
  },
  {
   "cell_type": "markdown",
   "id": "d71f4529-7264-4e63-8c72-d471775a2564",
   "metadata": {},
   "source": [
    "*Extracting time interval in `seconds`*"
   ]
  },
  {
   "cell_type": "code",
   "execution_count": 6,
   "id": "bf306d1c-b194-48f6-814e-5708b69958db",
   "metadata": {},
   "outputs": [],
   "source": [
    "diff = diff.dt.total_seconds()\n",
    "nyc_taxi[\"time_interval\"] = diff"
   ]
  },
  {
   "cell_type": "markdown",
   "id": "2643f870-0168-4f5b-a59c-08ddf12cb675",
   "metadata": {},
   "source": [
    "*Extracting `hour` from pickup date time*"
   ]
  },
  {
   "cell_type": "code",
   "execution_count": 7,
   "id": "b4f2102b-055a-4f84-a9f5-f86cd942a5c2",
   "metadata": {},
   "outputs": [],
   "source": [
    "nyc_taxi[\"hour\"] = nyc_taxi[\"tpep_pickup_datetime\"].dt.hour"
   ]
  },
  {
   "cell_type": "markdown",
   "id": "2ec1a109-3756-4754-ba5f-e1be25d17714",
   "metadata": {},
   "source": [
    "*Calculating `distance` for zero values*"
   ]
  },
  {
   "cell_type": "code",
   "execution_count": 8,
   "id": "596e2c1a-de39-4004-9f30-408625e5260e",
   "metadata": {},
   "outputs": [],
   "source": [
    "pos = nyc_taxi[nyc_taxi[\"trip_distance\"] == 0.0].index\n",
    "npos = nyc_taxi[~nyc_taxi.index.isin(pos)].index"
   ]
  },
  {
   "cell_type": "code",
   "execution_count": 9,
   "id": "ba829bb8-cbc3-4a25-8899-5e335607349d",
   "metadata": {},
   "outputs": [],
   "source": [
    "from sklearn.linear_model import LinearRegression\n",
    "reg = LinearRegression()\n",
    "reg.fit(nyc_taxi.loc[npos,[\"total_amount\", \"time_interval\"]], nyc_taxi.loc[npos, \"trip_distance\"])\n",
    "pred = reg.predict(nyc_taxi.loc[pos,[\"total_amount\", \"time_interval\"]])/2"
   ]
  },
  {
   "cell_type": "code",
   "execution_count": 10,
   "id": "222b233e-76d9-4dd7-ba5e-2128a1f0ac14",
   "metadata": {},
   "outputs": [],
   "source": [
    "x = 0\n",
    "for i in pos[:10]:\n",
    "    nyc_taxi.loc[i, \"trip_distance\"] = pred[x]\n",
    "    x = x + 1"
   ]
  },
  {
   "cell_type": "markdown",
   "id": "480e103a-2bb1-4ed9-b4ab-229f19bd0fd7",
   "metadata": {},
   "source": [
    "*Removing negative and zero time instances from time_interval*"
   ]
  },
  {
   "cell_type": "code",
   "execution_count": 11,
   "id": "71c72b0f-ba11-46fe-88ee-0a90a218864e",
   "metadata": {},
   "outputs": [],
   "source": [
    "pos = nyc_taxi[nyc_taxi[\"time_interval\"] <=0.0].index\n",
    "nyc_taxi.drop(pos, axis=0, inplace=True)"
   ]
  },
  {
   "cell_type": "markdown",
   "id": "b1bc8d78-6e28-4f38-9774-08afc34bd5e0",
   "metadata": {},
   "source": [
    "*Converting miles into `meters`*"
   ]
  },
  {
   "cell_type": "code",
   "execution_count": 12,
   "id": "c6a62e86-f630-4bbf-b7ec-16276c9ba3c6",
   "metadata": {},
   "outputs": [],
   "source": [
    "nyc_taxi[\"trip_distance\"] = nyc_taxi[\"trip_distance\"] * 1609.0"
   ]
  },
  {
   "cell_type": "markdown",
   "id": "c1db7aa7-0342-4df1-a9ce-81e15962c027",
   "metadata": {},
   "source": [
    "*Calculating speed in `meter/second`*"
   ]
  },
  {
   "cell_type": "code",
   "execution_count": 13,
   "id": "94138dba-2147-43f8-b88d-b5903bb443f9",
   "metadata": {},
   "outputs": [],
   "source": [
    "nyc_taxi[\"avg_speed_ms\"] = nyc_taxi[\"trip_distance\"] / nyc_taxi[\"time_interval\"]"
   ]
  },
  {
   "cell_type": "code",
   "execution_count": 14,
   "id": "7fa26ca5-8b8b-4508-9466-7e94b4f0a6e6",
   "metadata": {},
   "outputs": [
    {
     "data": {
      "text/plain": [
       "(2705487, 15)"
      ]
     },
     "execution_count": 14,
     "metadata": {},
     "output_type": "execute_result"
    }
   ],
   "source": [
    "nyc_taxi.shape"
   ]
  },
  {
   "cell_type": "code",
   "execution_count": 15,
   "id": "645dd98c-6a9e-4b81-84a5-95f907f16480",
   "metadata": {},
   "outputs": [
    {
     "data": {
      "text/html": [
       "<div>\n",
       "<style scoped>\n",
       "    .dataframe tbody tr th:only-of-type {\n",
       "        vertical-align: middle;\n",
       "    }\n",
       "\n",
       "    .dataframe tbody tr th {\n",
       "        vertical-align: top;\n",
       "    }\n",
       "\n",
       "    .dataframe thead th {\n",
       "        text-align: right;\n",
       "    }\n",
       "</style>\n",
       "<table border=\"1\" class=\"dataframe\">\n",
       "  <thead>\n",
       "    <tr style=\"text-align: right;\">\n",
       "      <th></th>\n",
       "      <th>VendorID</th>\n",
       "      <th>tpep_pickup_datetime</th>\n",
       "      <th>tpep_dropoff_datetime</th>\n",
       "      <th>passenger_count</th>\n",
       "      <th>trip_distance</th>\n",
       "      <th>RatecodeID</th>\n",
       "      <th>PULocationID</th>\n",
       "      <th>DOLocationID</th>\n",
       "      <th>payment_type</th>\n",
       "      <th>fare_amount</th>\n",
       "      <th>total_amount</th>\n",
       "      <th>day_of_week</th>\n",
       "      <th>time_interval</th>\n",
       "      <th>hour</th>\n",
       "      <th>avg_speed_ms</th>\n",
       "    </tr>\n",
       "  </thead>\n",
       "  <tbody>\n",
       "    <tr>\n",
       "      <th>0</th>\n",
       "      <td>2</td>\n",
       "      <td>2022-03-14 12:06:11</td>\n",
       "      <td>2022-03-14 12:13:51</td>\n",
       "      <td>1</td>\n",
       "      <td>3008.83</td>\n",
       "      <td>1</td>\n",
       "      <td>229</td>\n",
       "      <td>263</td>\n",
       "      <td>2</td>\n",
       "      <td>8.0</td>\n",
       "      <td>11.30</td>\n",
       "      <td>0</td>\n",
       "      <td>460.0</td>\n",
       "      <td>12</td>\n",
       "      <td>6.540935</td>\n",
       "    </tr>\n",
       "    <tr>\n",
       "      <th>1</th>\n",
       "      <td>2</td>\n",
       "      <td>2022-03-09 17:56:22</td>\n",
       "      <td>2022-03-09 18:09:48</td>\n",
       "      <td>2</td>\n",
       "      <td>3105.37</td>\n",
       "      <td>1</td>\n",
       "      <td>140</td>\n",
       "      <td>239</td>\n",
       "      <td>1</td>\n",
       "      <td>10.0</td>\n",
       "      <td>15.30</td>\n",
       "      <td>2</td>\n",
       "      <td>806.0</td>\n",
       "      <td>17</td>\n",
       "      <td>3.852816</td>\n",
       "    </tr>\n",
       "    <tr>\n",
       "      <th>2</th>\n",
       "      <td>2</td>\n",
       "      <td>2022-03-24 22:11:00</td>\n",
       "      <td>2022-03-24 22:22:20</td>\n",
       "      <td>1</td>\n",
       "      <td>2928.38</td>\n",
       "      <td>1</td>\n",
       "      <td>239</td>\n",
       "      <td>263</td>\n",
       "      <td>1</td>\n",
       "      <td>9.5</td>\n",
       "      <td>15.96</td>\n",
       "      <td>3</td>\n",
       "      <td>680.0</td>\n",
       "      <td>22</td>\n",
       "      <td>4.306441</td>\n",
       "    </tr>\n",
       "    <tr>\n",
       "      <th>3</th>\n",
       "      <td>2</td>\n",
       "      <td>2022-03-15 20:54:50</td>\n",
       "      <td>2022-03-15 21:04:46</td>\n",
       "      <td>6</td>\n",
       "      <td>3137.55</td>\n",
       "      <td>1</td>\n",
       "      <td>163</td>\n",
       "      <td>186</td>\n",
       "      <td>1</td>\n",
       "      <td>9.0</td>\n",
       "      <td>15.36</td>\n",
       "      <td>1</td>\n",
       "      <td>596.0</td>\n",
       "      <td>20</td>\n",
       "      <td>5.264346</td>\n",
       "    </tr>\n",
       "    <tr>\n",
       "      <th>4</th>\n",
       "      <td>2</td>\n",
       "      <td>2022-03-27 16:59:01</td>\n",
       "      <td>2022-03-27 17:10:36</td>\n",
       "      <td>1</td>\n",
       "      <td>1657.27</td>\n",
       "      <td>1</td>\n",
       "      <td>186</td>\n",
       "      <td>230</td>\n",
       "      <td>2</td>\n",
       "      <td>8.5</td>\n",
       "      <td>11.80</td>\n",
       "      <td>6</td>\n",
       "      <td>695.0</td>\n",
       "      <td>16</td>\n",
       "      <td>2.384561</td>\n",
       "    </tr>\n",
       "  </tbody>\n",
       "</table>\n",
       "</div>"
      ],
      "text/plain": [
       "   VendorID tpep_pickup_datetime tpep_dropoff_datetime  passenger_count  \\\n",
       "0         2  2022-03-14 12:06:11   2022-03-14 12:13:51                1   \n",
       "1         2  2022-03-09 17:56:22   2022-03-09 18:09:48                2   \n",
       "2         2  2022-03-24 22:11:00   2022-03-24 22:22:20                1   \n",
       "3         2  2022-03-15 20:54:50   2022-03-15 21:04:46                6   \n",
       "4         2  2022-03-27 16:59:01   2022-03-27 17:10:36                1   \n",
       "\n",
       "   trip_distance  RatecodeID  PULocationID  DOLocationID  payment_type  \\\n",
       "0        3008.83           1           229           263             2   \n",
       "1        3105.37           1           140           239             1   \n",
       "2        2928.38           1           239           263             1   \n",
       "3        3137.55           1           163           186             1   \n",
       "4        1657.27           1           186           230             2   \n",
       "\n",
       "   fare_amount  total_amount  day_of_week  time_interval  hour  avg_speed_ms  \n",
       "0          8.0         11.30            0          460.0    12      6.540935  \n",
       "1         10.0         15.30            2          806.0    17      3.852816  \n",
       "2          9.5         15.96            3          680.0    22      4.306441  \n",
       "3          9.0         15.36            1          596.0    20      5.264346  \n",
       "4          8.5         11.80            6          695.0    16      2.384561  "
      ]
     },
     "execution_count": 15,
     "metadata": {},
     "output_type": "execute_result"
    }
   ],
   "source": [
    "nyc_taxi.head()"
   ]
  },
  {
   "cell_type": "markdown",
   "id": "7ee48ff7-d557-4304-8a74-41705d4c5f20",
   "metadata": {},
   "source": [
    "*Removing outliers from columns `trip_distance`, `time_interval` and `total_amount`* "
   ]
  },
  {
   "cell_type": "code",
   "execution_count": 16,
   "id": "db367d91-a28b-40b8-b6ab-c75027382689",
   "metadata": {},
   "outputs": [],
   "source": [
    "# removing outliers with more than 4 sd\n",
    "from scipy import stats\n",
    "cols = [\"trip_distance\", \"time_interval\", \"total_amount\"]\n",
    "for col in cols:\n",
    "    idx = nyc_taxi[np.abs(stats.zscore(nyc_taxi[col]) > 4)].index\n",
    "    nyc_taxi.drop(idx, axis=0, inplace=True)"
   ]
  },
  {
   "cell_type": "code",
   "execution_count": 17,
   "id": "4d4b59d0-2d2f-471b-878a-83ef820eb808",
   "metadata": {},
   "outputs": [],
   "source": [
    "# save train_labels\n",
    "train_labels = nyc_taxi[\"total_amount\"]\n",
    "train_labels = np.array(train_labels)\n",
    "np.save(\"data/train_labels\", train_labels, allow_pickle=True)"
   ]
  },
  {
   "cell_type": "code",
   "execution_count": 18,
   "id": "ed3a16e1-348a-48d9-8599-551ed231da0f",
   "metadata": {},
   "outputs": [],
   "source": [
    "del train_labels"
   ]
  },
  {
   "cell_type": "markdown",
   "id": "2bd134b1-b084-4660-9d7c-3d564b211368",
   "metadata": {},
   "source": [
    "**Encoding**"
   ]
  },
  {
   "cell_type": "code",
   "execution_count": 19,
   "id": "57dbaf4c-fbbb-402a-83dc-1bab62dacba4",
   "metadata": {
    "tags": []
   },
   "outputs": [],
   "source": [
    "from category_encoders import BinaryEncoder\n",
    "cat = [\"VendorID\", \"passenger_count\", \"trip_distance\", \"RatecodeID\",\n",
    "       \"PULocationID\", \"DOLocationID\", \"payment_type\", \"day_of_week\",\n",
    "       \"hour\"]\n",
    "encoder = BinaryEncoder(cols=cat)\n",
    "enc = encoder.fit_transform(nyc_taxi.loc[:, cat])\n",
    "encoded_cat = np.array(enc)"
   ]
  },
  {
   "cell_type": "markdown",
   "id": "6e4323e0-5920-4752-8022-d99b093f0aa7",
   "metadata": {},
   "source": [
    "### **Scaling** "
   ]
  },
  {
   "cell_type": "code",
   "execution_count": 20,
   "id": "af385a4c-539a-434f-a735-d711b8e24db1",
   "metadata": {},
   "outputs": [],
   "source": [
    "from sklearn.preprocessing import StandardScaler\n",
    "cont = [\"trip_distance\", \"time_interval\", \"avg_speed_ms\"]\n",
    "scale = StandardScaler()\n",
    "sca = scale.fit_transform(nyc_taxi.loc[:,cont])\n",
    "scale_cont = np.array(sca)"
   ]
  },
  {
   "cell_type": "code",
   "execution_count": 21,
   "id": "b3600896-1c49-4819-9ce7-615c6c74a363",
   "metadata": {},
   "outputs": [],
   "source": [
    "train_matrix = np.concatenate((encoded_cat, scale_cont), axis=1)"
   ]
  },
  {
   "cell_type": "code",
   "execution_count": 22,
   "id": "5db20c68-f0e2-415e-99c5-d7dd87742ea9",
   "metadata": {},
   "outputs": [],
   "source": [
    "np.save(file=\"data/train_matrix\", arr=train_matrix, allow_pickle=True)"
   ]
  },
  {
   "cell_type": "code",
   "execution_count": 23,
   "id": "641a435a-18c8-4fab-916e-cbf0a5d91218",
   "metadata": {},
   "outputs": [],
   "source": [
    "del nyc_taxi,  scale_cont, encoded_cat, train_matrix "
   ]
  },
  {
   "cell_type": "markdown",
   "id": "6a428eac-ce50-48de-8f2b-5063d3391749",
   "metadata": {},
   "source": [
    "**Test**"
   ]
  },
  {
   "cell_type": "code",
   "execution_count": 24,
   "id": "b1690767-eee9-4168-91d9-7a5770ca17db",
   "metadata": {},
   "outputs": [
    {
     "data": {
      "text/html": [
       "<div>\n",
       "<style scoped>\n",
       "    .dataframe tbody tr th:only-of-type {\n",
       "        vertical-align: middle;\n",
       "    }\n",
       "\n",
       "    .dataframe tbody tr th {\n",
       "        vertical-align: top;\n",
       "    }\n",
       "\n",
       "    .dataframe thead th {\n",
       "        text-align: right;\n",
       "    }\n",
       "</style>\n",
       "<table border=\"1\" class=\"dataframe\">\n",
       "  <thead>\n",
       "    <tr style=\"text-align: right;\">\n",
       "      <th></th>\n",
       "      <th>VendorID</th>\n",
       "      <th>tpep_pickup_datetime</th>\n",
       "      <th>tpep_dropoff_datetime</th>\n",
       "      <th>passenger_count</th>\n",
       "      <th>trip_distance</th>\n",
       "      <th>RatecodeID</th>\n",
       "      <th>PULocationID</th>\n",
       "      <th>DOLocationID</th>\n",
       "      <th>payment_type</th>\n",
       "      <th>fare_amount</th>\n",
       "      <th>total_amount</th>\n",
       "    </tr>\n",
       "  </thead>\n",
       "  <tbody>\n",
       "    <tr>\n",
       "      <th>899995</th>\n",
       "      <td>1</td>\n",
       "      <td>2022-03-31 09:00:44</td>\n",
       "      <td>2022-03-31 09:26:28</td>\n",
       "      <td>1</td>\n",
       "      <td>6.90</td>\n",
       "      <td>1</td>\n",
       "      <td>13</td>\n",
       "      <td>162</td>\n",
       "      <td>1</td>\n",
       "      <td>26.0</td>\n",
       "      <td>35.16</td>\n",
       "    </tr>\n",
       "    <tr>\n",
       "      <th>899996</th>\n",
       "      <td>2</td>\n",
       "      <td>2022-03-17 03:14:56</td>\n",
       "      <td>2022-03-17 03:34:42</td>\n",
       "      <td>1</td>\n",
       "      <td>3.84</td>\n",
       "      <td>1</td>\n",
       "      <td>170</td>\n",
       "      <td>87</td>\n",
       "      <td>2</td>\n",
       "      <td>16.0</td>\n",
       "      <td>19.80</td>\n",
       "    </tr>\n",
       "    <tr>\n",
       "      <th>899997</th>\n",
       "      <td>1</td>\n",
       "      <td>2022-03-31 13:31:46</td>\n",
       "      <td>2022-03-31 13:51:19</td>\n",
       "      <td>0</td>\n",
       "      <td>1.50</td>\n",
       "      <td>1</td>\n",
       "      <td>163</td>\n",
       "      <td>236</td>\n",
       "      <td>1</td>\n",
       "      <td>12.5</td>\n",
       "      <td>18.95</td>\n",
       "    </tr>\n",
       "    <tr>\n",
       "      <th>899998</th>\n",
       "      <td>1</td>\n",
       "      <td>2022-03-28 17:42:44</td>\n",
       "      <td>2022-03-28 17:58:20</td>\n",
       "      <td>1</td>\n",
       "      <td>3.90</td>\n",
       "      <td>1</td>\n",
       "      <td>140</td>\n",
       "      <td>179</td>\n",
       "      <td>1</td>\n",
       "      <td>14.5</td>\n",
       "      <td>23.50</td>\n",
       "    </tr>\n",
       "    <tr>\n",
       "      <th>899999</th>\n",
       "      <td>2</td>\n",
       "      <td>2022-03-15 20:24:19</td>\n",
       "      <td>2022-03-15 20:46:09</td>\n",
       "      <td>1</td>\n",
       "      <td>3.92</td>\n",
       "      <td>1</td>\n",
       "      <td>148</td>\n",
       "      <td>48</td>\n",
       "      <td>1</td>\n",
       "      <td>17.0</td>\n",
       "      <td>24.96</td>\n",
       "    </tr>\n",
       "  </tbody>\n",
       "</table>\n",
       "</div>"
      ],
      "text/plain": [
       "        VendorID tpep_pickup_datetime tpep_dropoff_datetime  passenger_count  \\\n",
       "899995         1  2022-03-31 09:00:44   2022-03-31 09:26:28                1   \n",
       "899996         2  2022-03-17 03:14:56   2022-03-17 03:34:42                1   \n",
       "899997         1  2022-03-31 13:31:46   2022-03-31 13:51:19                0   \n",
       "899998         1  2022-03-28 17:42:44   2022-03-28 17:58:20                1   \n",
       "899999         2  2022-03-15 20:24:19   2022-03-15 20:46:09                1   \n",
       "\n",
       "        trip_distance  RatecodeID  PULocationID  DOLocationID  payment_type  \\\n",
       "899995           6.90           1            13           162             1   \n",
       "899996           3.84           1           170            87             2   \n",
       "899997           1.50           1           163           236             1   \n",
       "899998           3.90           1           140           179             1   \n",
       "899999           3.92           1           148            48             1   \n",
       "\n",
       "        fare_amount  total_amount  \n",
       "899995         26.0         35.16  \n",
       "899996         16.0         19.80  \n",
       "899997         12.5         18.95  \n",
       "899998         14.5         23.50  \n",
       "899999         17.0         24.96  "
      ]
     },
     "execution_count": 24,
     "metadata": {},
     "output_type": "execute_result"
    }
   ],
   "source": [
    "test = pd.read_pickle(\"data/test.pickle\")\n",
    "test.tail()"
   ]
  },
  {
   "cell_type": "markdown",
   "id": "946306fb-0e26-4514-8bbf-edd58c06da41",
   "metadata": {},
   "source": [
    "*Extract day in week from `tpep_pickup_datetime`*"
   ]
  },
  {
   "cell_type": "code",
   "execution_count": 25,
   "id": "6871ab7e-4658-4b0b-8052-f536fa621d09",
   "metadata": {},
   "outputs": [],
   "source": [
    "test[\"day_of_week\"] = test[\"tpep_pickup_datetime\"].dt.dayofweek"
   ]
  },
  {
   "cell_type": "markdown",
   "id": "d5dc8fd5-f00e-4136-8a49-0389ce0499ae",
   "metadata": {},
   "source": [
    "*Calculating time interval from pickup to dropoff*"
   ]
  },
  {
   "cell_type": "code",
   "execution_count": 26,
   "id": "f0b9a1b1-a1f7-4dd7-8de6-16f5d81b0d33",
   "metadata": {},
   "outputs": [],
   "source": [
    "diff = test[\"tpep_dropoff_datetime\"] - test[\"tpep_pickup_datetime\"]"
   ]
  },
  {
   "cell_type": "markdown",
   "id": "3dc6ffbb-5b03-4878-a279-9ad0ba9a2973",
   "metadata": {},
   "source": [
    "*Extracting time interval in seconds*"
   ]
  },
  {
   "cell_type": "code",
   "execution_count": 27,
   "id": "0d20d232-d273-44cd-8f16-522367e696f3",
   "metadata": {},
   "outputs": [],
   "source": [
    "diff = diff.dt.total_seconds()\n",
    "test[\"time_interval\"] = diff"
   ]
  },
  {
   "cell_type": "markdown",
   "id": "ab7d0caf-86bf-4217-87e1-eced0554a88c",
   "metadata": {},
   "source": [
    "*Extracting hour from pickup date time*"
   ]
  },
  {
   "cell_type": "code",
   "execution_count": 28,
   "id": "6b623271-b589-4c07-b39d-f92d282f18ad",
   "metadata": {},
   "outputs": [],
   "source": [
    "test[\"hour\"] = test[\"tpep_pickup_datetime\"].dt.hour"
   ]
  },
  {
   "cell_type": "markdown",
   "id": "f37c27be-ac90-4f1e-a7e3-736af99f554e",
   "metadata": {},
   "source": [
    "*Calculating distance for zero values*"
   ]
  },
  {
   "cell_type": "code",
   "execution_count": 29,
   "id": "edaa00d4-cdc0-4019-9d6d-15a2092a7db5",
   "metadata": {},
   "outputs": [],
   "source": [
    "pos = test[test[\"trip_distance\"] == 0.0].index\n",
    "npos = test[~test.index.isin(pos)].index"
   ]
  },
  {
   "cell_type": "code",
   "execution_count": 30,
   "id": "4355c76c-211b-4efe-8661-1411cc15d5a6",
   "metadata": {},
   "outputs": [],
   "source": [
    "pred = reg.predict(test.loc[pos,[\"total_amount\", \"time_interval\"]])/2"
   ]
  },
  {
   "cell_type": "code",
   "execution_count": 32,
   "id": "e133fbb5-9191-4464-a569-1e7a40a1dc74",
   "metadata": {},
   "outputs": [],
   "source": [
    "x = 0\n",
    "for i in pos[:10]:\n",
    "    test.loc[i, \"trip_distance\"] = pred[x]\n",
    "    x = x + 1"
   ]
  },
  {
   "cell_type": "markdown",
   "id": "e0a36000-0aa4-4a3c-9efc-ff5a6fe43240",
   "metadata": {},
   "source": [
    "*Removing negative and zero time instances from time_interval*"
   ]
  },
  {
   "cell_type": "code",
   "execution_count": 33,
   "id": "6ae7cb65-504d-4652-bb10-367090b531eb",
   "metadata": {},
   "outputs": [],
   "source": [
    "pos = test[test[\"time_interval\"] <=0.0].index\n",
    "test.drop(pos, axis=0, inplace=True)"
   ]
  },
  {
   "cell_type": "markdown",
   "id": "9b061735-83c2-4c78-84ca-61931340fb47",
   "metadata": {},
   "source": [
    "*Converting miles into meters*"
   ]
  },
  {
   "cell_type": "code",
   "execution_count": 34,
   "id": "4b612f7f-d1e1-4440-970a-5b124eabccd6",
   "metadata": {},
   "outputs": [],
   "source": [
    "test[\"trip_distance\"] = test[\"trip_distance\"] * 1609.0"
   ]
  },
  {
   "cell_type": "markdown",
   "id": "8db2258a-85bd-4e80-8e51-925d96a28736",
   "metadata": {},
   "source": [
    "*Calculating speed in meter/second*"
   ]
  },
  {
   "cell_type": "code",
   "execution_count": 35,
   "id": "c9ae313c-a91f-471e-9630-9e677099007c",
   "metadata": {},
   "outputs": [],
   "source": [
    "test[\"avg_speed_ms\"] = test[\"trip_distance\"] / test[\"time_interval\"]"
   ]
  },
  {
   "cell_type": "code",
   "execution_count": 36,
   "id": "0feb3b2e-85af-4cec-bb08-7802410e17a0",
   "metadata": {},
   "outputs": [],
   "source": [
    "# save train_labels\n",
    "test_labels = test[\"total_amount\"]\n",
    "test_labels = np.array(test_labels)\n",
    "np.save(\"data/test_labels\", test_labels, allow_pickle=True)"
   ]
  },
  {
   "cell_type": "code",
   "execution_count": 37,
   "id": "e6eb4cc9-89e4-4c40-9f50-9dfcbda0cf89",
   "metadata": {
    "tags": []
   },
   "outputs": [],
   "source": [
    "from category_encoders import BinaryEncoder\n",
    "cat = [\"VendorID\", \"passenger_count\", \"trip_distance\", \"RatecodeID\",\n",
    "       \"PULocationID\", \"DOLocationID\", \"payment_type\", \"day_of_week\",\n",
    "       \"hour\"]\n",
    "enc = encoder.transform(test.loc[:, cat])\n",
    "encoded_cat = np.array(enc)"
   ]
  },
  {
   "cell_type": "code",
   "execution_count": 38,
   "id": "bba07fa8-fe99-4b12-b7d1-d19e4a3ab5b2",
   "metadata": {},
   "outputs": [],
   "source": [
    "from sklearn.preprocessing import StandardScaler\n",
    "cont = [\"trip_distance\", \"time_interval\", \"avg_speed_ms\"]\n",
    "sca = scale.transform(test.loc[:,cont])\n",
    "scale_cont = np.array(sca)"
   ]
  },
  {
   "cell_type": "code",
   "execution_count": 39,
   "id": "1b033159-f320-465d-ae9e-931ec97affcc",
   "metadata": {},
   "outputs": [],
   "source": [
    "test_matrix = np.concatenate((encoded_cat, scale_cont), axis=1)"
   ]
  },
  {
   "cell_type": "code",
   "execution_count": 40,
   "id": "89a3a321-57e4-4c02-bb46-56e0289aac74",
   "metadata": {},
   "outputs": [],
   "source": [
    "np.save(file=\"data/test_matrix\", arr=test_matrix, allow_pickle=True)"
   ]
  },
  {
   "cell_type": "code",
   "execution_count": 41,
   "id": "d0e84c9c-0342-47b8-8dae-40846790671d",
   "metadata": {},
   "outputs": [],
   "source": [
    "del encoded_cat, scale_cont, test_matrix"
   ]
  },
  {
   "cell_type": "code",
   "execution_count": null,
   "id": "49680e4f-7662-45f6-8547-e6baba4683a7",
   "metadata": {},
   "outputs": [],
   "source": []
  }
 ],
 "metadata": {
  "kernelspec": {
   "display_name": "Python 3 (ipykernel)",
   "language": "python",
   "name": "python3"
  },
  "language_info": {
   "codemirror_mode": {
    "name": "ipython",
    "version": 3
   },
   "file_extension": ".py",
   "mimetype": "text/x-python",
   "name": "python",
   "nbconvert_exporter": "python",
   "pygments_lexer": "ipython3",
   "version": "3.9.11"
  }
 },
 "nbformat": 4,
 "nbformat_minor": 5
}
