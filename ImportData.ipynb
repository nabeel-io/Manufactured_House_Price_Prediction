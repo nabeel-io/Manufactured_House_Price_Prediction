{
 "cells": [
  {
   "cell_type": "code",
   "execution_count": 60,
   "id": "3a8bab36-a76d-4727-b0a5-dd740b7cdb5b",
   "metadata": {},
   "outputs": [],
   "source": [
    "# librarires xlrd to read xls file"
   ]
  },
  {
   "cell_type": "code",
   "execution_count": 61,
   "id": "f1b9a3a5-4883-477d-8136-82ddd5882699",
   "metadata": {},
   "outputs": [],
   "source": [
    "import os \n",
    "import pandas as pd\n",
    "import numpy as np"
   ]
  },
  {
   "cell_type": "code",
   "execution_count": 62,
   "id": "b898f5eb-7f1c-4d15-81a8-d9e0e65ae71d",
   "metadata": {},
   "outputs": [],
   "source": [
    "dir_items = os.listdir(\"data\")"
   ]
  },
  {
   "cell_type": "code",
   "execution_count": 70,
   "id": "a03d298e-34e2-40b7-9875-c9161e4d102f",
   "metadata": {},
   "outputs": [],
   "source": [
    "fields = [\"REGION\", \"SHIPMONTH\", \"SECTIONS\", \"STATUS\", \n",
    "          \"BEDROOMS\", \"TITLED\", \"SECURED\",\"LOCATION\",\n",
    "          \"FOUNDATION\",\"SQFT\", \"PRICE\", ]\n",
    "house_price = pd.DataFrame(columns=fields)\n",
    "for file in dir_items:\n",
    "    if file.endswith(\".xlsx\"):\n",
    "        data = \"data/\" + file\n",
    "        #print(pd.read_excel(data).columns)\n",
    "        df = pd.read_excel(data, usecols=fields)\n",
    "        house_price = pd.concat([house_price, df])\n",
    "    else:\n",
    "        pass\n",
    "house_price.reset_index(drop=False, inplace=True)"
   ]
  },
  {
   "cell_type": "code",
   "execution_count": 71,
   "id": "16d62298-2dac-46f8-a364-cb58173dec0e",
   "metadata": {},
   "outputs": [],
   "source": [
    "house_price = house_price.replace(9, pd.NA)"
   ]
  },
  {
   "cell_type": "code",
   "execution_count": 72,
   "id": "a1cb146a-c27e-4c60-bc53-9e58beaccf9a",
   "metadata": {},
   "outputs": [
    {
     "data": {
      "text/plain": [
       "index             7\n",
       "REGION            0\n",
       "SHIPMONTH         0\n",
       "SECTIONS          0\n",
       "STATUS            2\n",
       "BEDROOMS      10019\n",
       "TITLED        21059\n",
       "SECURED       28753\n",
       "LOCATION      20625\n",
       "FOUNDATION    20625\n",
       "SQFT          10019\n",
       "PRICE         10549\n",
       "dtype: int64"
      ]
     },
     "execution_count": 72,
     "metadata": {},
     "output_type": "execute_result"
    }
   ],
   "source": [
    "house_price.isna().sum()"
   ]
  },
  {
   "cell_type": "code",
   "execution_count": 73,
   "id": "9405a5a3-9be3-4e55-8cb1-617a74dfbbb5",
   "metadata": {},
   "outputs": [],
   "source": [
    "# instances with no missing data\n",
    "house_price = house_price.dropna()\n",
    "house_price = house_price.drop([\"index\"], axis=1)\n",
    "house_price.reset_index(drop=True, inplace=True)"
   ]
  },
  {
   "cell_type": "code",
   "execution_count": 79,
   "id": "590950c3-257a-4016-aff1-79898b5de4e2",
   "metadata": {},
   "outputs": [],
   "source": [
    "house_price[\"SHIPMONTH\"] = house_price[\"SHIPMONTH\"].astype(str)\n",
    "house_price[\"YEAR\"] = house_price[\"SHIPMONTH\"].str[0:4]\n",
    "house_price[\"MONTH\"] = house_price[\"SHIPMONTH\"].str[4:]\n",
    "house_price.drop([\"SHIPMONTH\"], axis=1, inplace=True)"
   ]
  },
  {
   "cell_type": "code",
   "execution_count": 82,
   "id": "081ae042-3a96-4b65-8edd-71bcac291786",
   "metadata": {},
   "outputs": [
    {
     "data": {
      "text/plain": [
       "2014    2655\n",
       "2015    2453\n",
       "2016    2412\n",
       "2017    2222\n",
       "2019    2175\n",
       "2018    1191\n",
       "2020    1011\n",
       "Name: YEAR, dtype: int64"
      ]
     },
     "execution_count": 82,
     "metadata": {},
     "output_type": "execute_result"
    }
   ],
   "source": [
    "house_price[\"YEAR\"].value_counts()"
   ]
  },
  {
   "cell_type": "code",
   "execution_count": 83,
   "id": "853ee791-56e7-4f41-be26-d060acac51e8",
   "metadata": {},
   "outputs": [
    {
     "data": {
      "text/plain": [
       "Index(['REGION', 'SECTIONS', 'STATUS', 'BEDROOMS', 'TITLED', 'SECURED',\n",
       "       'LOCATION', 'FOUNDATION', 'SQFT', 'PRICE', 'YEAR', 'MONTH'],\n",
       "      dtype='object')"
      ]
     },
     "execution_count": 83,
     "metadata": {},
     "output_type": "execute_result"
    }
   ],
   "source": [
    "house_price.columns"
   ]
  },
  {
   "cell_type": "code",
   "execution_count": 86,
   "id": "511b14db-e1e7-4ac5-b3ed-cb048f729b6b",
   "metadata": {},
   "outputs": [],
   "source": [
    "house_price = house_price[['REGION','YEAR', 'MONTH', 'SECTIONS', 'STATUS', 'BEDROOMS', 'TITLED', 'SECURED',\n",
    "                          'LOCATION', 'FOUNDATION', 'SQFT', 'PRICE']]"
   ]
  },
  {
   "cell_type": "code",
   "execution_count": 87,
   "id": "fa56319d-0be5-4b51-b376-97e5b7bf06d6",
   "metadata": {},
   "outputs": [
    {
     "data": {
      "text/html": [
       "<div>\n",
       "<style scoped>\n",
       "    .dataframe tbody tr th:only-of-type {\n",
       "        vertical-align: middle;\n",
       "    }\n",
       "\n",
       "    .dataframe tbody tr th {\n",
       "        vertical-align: top;\n",
       "    }\n",
       "\n",
       "    .dataframe thead th {\n",
       "        text-align: right;\n",
       "    }\n",
       "</style>\n",
       "<table border=\"1\" class=\"dataframe\">\n",
       "  <thead>\n",
       "    <tr style=\"text-align: right;\">\n",
       "      <th></th>\n",
       "      <th>REGION</th>\n",
       "      <th>YEAR</th>\n",
       "      <th>MONTH</th>\n",
       "      <th>SECTIONS</th>\n",
       "      <th>STATUS</th>\n",
       "      <th>BEDROOMS</th>\n",
       "      <th>TITLED</th>\n",
       "      <th>SECURED</th>\n",
       "      <th>LOCATION</th>\n",
       "      <th>FOUNDATION</th>\n",
       "      <th>SQFT</th>\n",
       "      <th>PRICE</th>\n",
       "    </tr>\n",
       "  </thead>\n",
       "  <tbody>\n",
       "    <tr>\n",
       "      <th>0</th>\n",
       "      <td>2</td>\n",
       "      <td>2014</td>\n",
       "      <td>01</td>\n",
       "      <td>1</td>\n",
       "      <td>2</td>\n",
       "      <td>3</td>\n",
       "      <td>2</td>\n",
       "      <td>1</td>\n",
       "      <td>1</td>\n",
       "      <td>3</td>\n",
       "      <td>1300</td>\n",
       "      <td>55800</td>\n",
       "    </tr>\n",
       "    <tr>\n",
       "      <th>1</th>\n",
       "      <td>2</td>\n",
       "      <td>2014</td>\n",
       "      <td>01</td>\n",
       "      <td>1</td>\n",
       "      <td>2</td>\n",
       "      <td>3</td>\n",
       "      <td>2</td>\n",
       "      <td>1</td>\n",
       "      <td>1</td>\n",
       "      <td>3</td>\n",
       "      <td>1300</td>\n",
       "      <td>57300</td>\n",
       "    </tr>\n",
       "    <tr>\n",
       "      <th>2</th>\n",
       "      <td>4</td>\n",
       "      <td>2014</td>\n",
       "      <td>01</td>\n",
       "      <td>1</td>\n",
       "      <td>2</td>\n",
       "      <td>1</td>\n",
       "      <td>2</td>\n",
       "      <td>1</td>\n",
       "      <td>3</td>\n",
       "      <td>2</td>\n",
       "      <td>600</td>\n",
       "      <td>42700</td>\n",
       "    </tr>\n",
       "    <tr>\n",
       "      <th>3</th>\n",
       "      <td>3</td>\n",
       "      <td>2014</td>\n",
       "      <td>01</td>\n",
       "      <td>2</td>\n",
       "      <td>2</td>\n",
       "      <td>3</td>\n",
       "      <td>2</td>\n",
       "      <td>1</td>\n",
       "      <td>3</td>\n",
       "      <td>3</td>\n",
       "      <td>1792</td>\n",
       "      <td>49900</td>\n",
       "    </tr>\n",
       "    <tr>\n",
       "      <th>4</th>\n",
       "      <td>2</td>\n",
       "      <td>2014</td>\n",
       "      <td>01</td>\n",
       "      <td>2</td>\n",
       "      <td>2</td>\n",
       "      <td>3</td>\n",
       "      <td>2</td>\n",
       "      <td>1</td>\n",
       "      <td>1</td>\n",
       "      <td>2</td>\n",
       "      <td>1404</td>\n",
       "      <td>95200</td>\n",
       "    </tr>\n",
       "    <tr>\n",
       "      <th>...</th>\n",
       "      <td>...</td>\n",
       "      <td>...</td>\n",
       "      <td>...</td>\n",
       "      <td>...</td>\n",
       "      <td>...</td>\n",
       "      <td>...</td>\n",
       "      <td>...</td>\n",
       "      <td>...</td>\n",
       "      <td>...</td>\n",
       "      <td>...</td>\n",
       "      <td>...</td>\n",
       "      <td>...</td>\n",
       "    </tr>\n",
       "    <tr>\n",
       "      <th>14114</th>\n",
       "      <td>5</td>\n",
       "      <td>2016</td>\n",
       "      <td>12</td>\n",
       "      <td>3</td>\n",
       "      <td>2</td>\n",
       "      <td>3</td>\n",
       "      <td>2</td>\n",
       "      <td>1</td>\n",
       "      <td>3</td>\n",
       "      <td>3</td>\n",
       "      <td>1800</td>\n",
       "      <td>94000</td>\n",
       "    </tr>\n",
       "    <tr>\n",
       "      <th>14115</th>\n",
       "      <td>5</td>\n",
       "      <td>2016</td>\n",
       "      <td>12</td>\n",
       "      <td>3</td>\n",
       "      <td>2</td>\n",
       "      <td>3</td>\n",
       "      <td>1</td>\n",
       "      <td>1</td>\n",
       "      <td>3</td>\n",
       "      <td>3</td>\n",
       "      <td>1800</td>\n",
       "      <td>95000</td>\n",
       "    </tr>\n",
       "    <tr>\n",
       "      <th>14116</th>\n",
       "      <td>5</td>\n",
       "      <td>2016</td>\n",
       "      <td>12</td>\n",
       "      <td>3</td>\n",
       "      <td>2</td>\n",
       "      <td>1</td>\n",
       "      <td>2</td>\n",
       "      <td>1</td>\n",
       "      <td>1</td>\n",
       "      <td>3</td>\n",
       "      <td>2100</td>\n",
       "      <td>170000</td>\n",
       "    </tr>\n",
       "    <tr>\n",
       "      <th>14117</th>\n",
       "      <td>5</td>\n",
       "      <td>2016</td>\n",
       "      <td>12</td>\n",
       "      <td>3</td>\n",
       "      <td>2</td>\n",
       "      <td>3</td>\n",
       "      <td>1</td>\n",
       "      <td>1</td>\n",
       "      <td>3</td>\n",
       "      <td>3</td>\n",
       "      <td>2400</td>\n",
       "      <td>152000</td>\n",
       "    </tr>\n",
       "    <tr>\n",
       "      <th>14118</th>\n",
       "      <td>5</td>\n",
       "      <td>2016</td>\n",
       "      <td>12</td>\n",
       "      <td>3</td>\n",
       "      <td>2</td>\n",
       "      <td>3</td>\n",
       "      <td>1</td>\n",
       "      <td>1</td>\n",
       "      <td>1</td>\n",
       "      <td>3</td>\n",
       "      <td>3000</td>\n",
       "      <td>134000</td>\n",
       "    </tr>\n",
       "  </tbody>\n",
       "</table>\n",
       "<p>14119 rows × 12 columns</p>\n",
       "</div>"
      ],
      "text/plain": [
       "       REGION  YEAR MONTH  SECTIONS STATUS BEDROOMS TITLED SECURED LOCATION  \\\n",
       "0           2  2014    01         1      2        3      2       1        1   \n",
       "1           2  2014    01         1      2        3      2       1        1   \n",
       "2           4  2014    01         1      2        1      2       1        3   \n",
       "3           3  2014    01         2      2        3      2       1        3   \n",
       "4           2  2014    01         2      2        3      2       1        1   \n",
       "...       ...   ...   ...       ...    ...      ...    ...     ...      ...   \n",
       "14114       5  2016    12         3      2        3      2       1        3   \n",
       "14115       5  2016    12         3      2        3      1       1        3   \n",
       "14116       5  2016    12         3      2        1      2       1        1   \n",
       "14117       5  2016    12         3      2        3      1       1        3   \n",
       "14118       5  2016    12         3      2        3      1       1        1   \n",
       "\n",
       "      FOUNDATION  SQFT   PRICE  \n",
       "0              3  1300   55800  \n",
       "1              3  1300   57300  \n",
       "2              2   600   42700  \n",
       "3              3  1792   49900  \n",
       "4              2  1404   95200  \n",
       "...          ...   ...     ...  \n",
       "14114          3  1800   94000  \n",
       "14115          3  1800   95000  \n",
       "14116          3  2100  170000  \n",
       "14117          3  2400  152000  \n",
       "14118          3  3000  134000  \n",
       "\n",
       "[14119 rows x 12 columns]"
      ]
     },
     "execution_count": 87,
     "metadata": {},
     "output_type": "execute_result"
    }
   ],
   "source": [
    "house_price"
   ]
  },
  {
   "cell_type": "code",
   "execution_count": null,
   "id": "315c5f0f-805b-4f02-a200-da63c1dda36f",
   "metadata": {},
   "outputs": [],
   "source": []
  }
 ],
 "metadata": {
  "kernelspec": {
   "display_name": "Python 3 (ipykernel)",
   "language": "python",
   "name": "python3"
  },
  "language_info": {
   "codemirror_mode": {
    "name": "ipython",
    "version": 3
   },
   "file_extension": ".py",
   "mimetype": "text/x-python",
   "name": "python",
   "nbconvert_exporter": "python",
   "pygments_lexer": "ipython3",
   "version": "3.9.11"
  }
 },
 "nbformat": 4,
 "nbformat_minor": 5
}
